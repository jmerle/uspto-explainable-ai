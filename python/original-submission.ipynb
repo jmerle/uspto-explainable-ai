{
 "cells": [
  {
   "cell_type": "markdown",
   "id": "e6bc3b1b",
   "metadata": {
    "papermill": {
     "duration": 0.008646,
     "end_time": "2024-05-06T17:30:38.978283",
     "exception": false,
     "start_time": "2024-05-06T17:30:38.969637",
     "status": "completed"
    },
    "tags": []
   },
   "source": [
    "# Initialization"
   ]
  },
  {
   "cell_type": "code",
   "execution_count": 10,
   "id": "c7da2765",
   "metadata": {
    "ExecuteTime": {
     "end_time": "2024-05-06T16:28:19.348625Z",
     "start_time": "2024-05-06T16:28:18.440216Z"
    },
    "execution": {
     "iopub.execute_input": "2024-05-06T17:30:38.995528Z",
     "iopub.status.busy": "2024-05-06T17:30:38.995091Z",
     "iopub.status.idle": "2024-05-06T17:31:16.114727Z",
     "shell.execute_reply": "2024-05-06T17:31:16.113230Z"
    },
    "papermill": {
     "duration": 37.135831,
     "end_time": "2024-05-06T17:31:16.121835",
     "exception": false,
     "start_time": "2024-05-06T17:30:38.986004",
     "status": "completed"
    },
    "tags": []
   },
   "outputs": [
    {
     "name": "stdout",
     "output_type": "stream",
     "text": [
      "is_kaggle=False\n",
      "competition_data_directory=PosixPath('/media/jasper/Jasper-T7/uspto-explainable-ai/competition-data')\n",
      "validation_data_directory=PosixPath('/media/jasper/Jasper-T7/uspto-explainable-ai/validation-data')\n",
      "output_directory=PosixPath('/media/jasper/Jasper-T7/uspto-explainable-ai/original-submission')\n",
      "max_query_tokens=50\n"
     ]
    }
   ],
   "source": [
    "import mlxtend.frequent_patterns\n",
    "import numpy as np\n",
    "import pandas as pd\n",
    "import polars as pl\n",
    "import whoosh_utils\n",
    "from collections import Counter\n",
    "from pathlib import Path\n",
    "from tqdm.notebook import tqdm\n",
    "\n",
    "is_kaggle = Path(\"/kaggle\").is_dir()\n",
    "\n",
    "if is_kaggle:\n",
    "    competition_data_directory = Path(\"/kaggle/input/uspto-explainable-ai\")\n",
    "    validation_data_directory = Path(\"/kaggle/input/uspto-explainable-ai-validation-index\")\n",
    "    output_directory = Path(\"/kaggle/working\")\n",
    "else:\n",
    "    competition_data_directory = Path(\"/media/jasper/Jasper-T7/uspto-explainable-ai/competition-data\")\n",
    "    validation_data_directory = Path(\"/media/jasper/Jasper-T7/uspto-explainable-ai/validation-data\")\n",
    "    output_directory = Path(\"/media/jasper/Jasper-T7/uspto-explainable-ai/original-submission\")\n",
    "\n",
    "max_query_tokens = 50\n",
    "\n",
    "print(f\"{is_kaggle=}\")\n",
    "print(f\"{competition_data_directory=}\")\n",
    "print(f\"{validation_data_directory=}\")\n",
    "print(f\"{output_directory=}\")\n",
    "print(f\"{max_query_tokens=}\")"
   ]
  },
  {
   "cell_type": "code",
   "execution_count": 2,
   "id": "2a1fe2b6",
   "metadata": {
    "ExecuteTime": {
     "end_time": "2024-05-06T16:28:19.386049Z",
     "start_time": "2024-05-06T16:28:19.350871Z"
    },
    "execution": {
     "iopub.execute_input": "2024-05-06T17:31:16.139765Z",
     "iopub.status.busy": "2024-05-06T17:31:16.138440Z",
     "iopub.status.idle": "2024-05-06T17:31:16.247070Z",
     "shell.execute_reply": "2024-05-06T17:31:16.245901Z"
    },
    "papermill": {
     "duration": 0.120736,
     "end_time": "2024-05-06T17:31:16.250056",
     "exception": false,
     "start_time": "2024-05-06T17:31:16.129320",
     "status": "completed"
    },
    "tags": []
   },
   "outputs": [
    {
     "data": {
      "text/html": [
       "<div><style>\n",
       ".dataframe > thead > tr,\n",
       ".dataframe > tbody > tr {\n",
       "  text-align: right;\n",
       "  white-space: pre-wrap;\n",
       "}\n",
       "</style>\n",
       "<small>shape: (10, 51)</small><table border=\"1\" class=\"dataframe\"><thead><tr><th>publication_number</th><th>target_0</th><th>target_1</th><th>target_2</th><th>target_3</th><th>target_4</th><th>target_5</th><th>target_6</th><th>target_7</th><th>target_8</th><th>target_9</th><th>target_10</th><th>target_11</th><th>target_12</th><th>target_13</th><th>target_14</th><th>target_15</th><th>target_16</th><th>target_17</th><th>target_18</th><th>target_19</th><th>target_20</th><th>target_21</th><th>target_22</th><th>target_23</th><th>target_24</th><th>target_25</th><th>target_26</th><th>target_27</th><th>target_28</th><th>target_29</th><th>target_30</th><th>target_31</th><th>target_32</th><th>target_33</th><th>target_34</th><th>target_35</th><th>target_36</th><th>target_37</th><th>target_38</th><th>target_39</th><th>target_40</th><th>target_41</th><th>target_42</th><th>target_43</th><th>target_44</th><th>target_45</th><th>target_46</th><th>target_47</th><th>target_48</th><th>target_49</th></tr><tr><td>str</td><td>str</td><td>str</td><td>str</td><td>str</td><td>str</td><td>str</td><td>str</td><td>str</td><td>str</td><td>str</td><td>str</td><td>str</td><td>str</td><td>str</td><td>str</td><td>str</td><td>str</td><td>str</td><td>str</td><td>str</td><td>str</td><td>str</td><td>str</td><td>str</td><td>str</td><td>str</td><td>str</td><td>str</td><td>str</td><td>str</td><td>str</td><td>str</td><td>str</td><td>str</td><td>str</td><td>str</td><td>str</td><td>str</td><td>str</td><td>str</td><td>str</td><td>str</td><td>str</td><td>str</td><td>str</td><td>str</td><td>str</td><td>str</td><td>str</td><td>str</td></tr></thead><tbody><tr><td>&quot;US-2017082634-A1&quot;</td><td>&quot;US-2020225242-A1&quot;</td><td>&quot;US-2010137151-A1&quot;</td><td>&quot;US-10607721-B2&quot;</td><td>&quot;US-6747273-B2&quot;</td><td>&quot;US-6940065-B2&quot;</td><td>&quot;US-7684934-B2&quot;</td><td>&quot;US-2019018928-A1&quot;</td><td>&quot;US-9040903-B2&quot;</td><td>&quot;US-7847245-B2&quot;</td><td>&quot;US-8501421-B2&quot;</td><td>&quot;US-9110076-B2&quot;</td><td>&quot;US-10617717-B2&quot;</td><td>&quot;US-8741556-B2&quot;</td><td>&quot;US-9312110-B2&quot;</td><td>&quot;US-7865312-B2&quot;</td><td>&quot;US-11428696-B2&quot;</td><td>&quot;US-11646185-B2&quot;</td><td>&quot;US-7603240-B2&quot;</td><td>&quot;US-9879304-B2&quot;</td><td>&quot;US-9354236-B2&quot;</td><td>&quot;US-2022365028-A1&quot;</td><td>&quot;US-2014051105-A1&quot;</td><td>&quot;US-2021239708-A1&quot;</td><td>&quot;US-10825672-B2&quot;</td><td>&quot;US-2022397578-A1&quot;</td><td>&quot;US-9746477-B2&quot;</td><td>&quot;US-2022221467-A1&quot;</td><td>&quot;US-2016139140-A1&quot;</td><td>&quot;US-2019353660-A1&quot;</td><td>&quot;US-9110074-B2&quot;</td><td>&quot;US-8604692-B2&quot;</td><td>&quot;US-2017168055-A1&quot;</td><td>&quot;US-7499807-B1&quot;</td><td>&quot;US-2003008327-A1&quot;</td><td>&quot;US-2003166007-A1&quot;</td><td>&quot;US-10598642-B2&quot;</td><td>&quot;US-10401337-B2&quot;</td><td>&quot;US-2005221500-A1&quot;</td><td>&quot;US-2017023547-A1&quot;</td><td>&quot;US-2003157575-A1&quot;</td><td>&quot;US-10197576-B2&quot;</td><td>&quot;US-11011359-B2&quot;</td><td>&quot;US-7020559-B1&quot;</td><td>&quot;US-8642349-B1&quot;</td><td>&quot;US-2009253156-A1&quot;</td><td>&quot;US-7783429-B2&quot;</td><td>&quot;US-2003060983-A1&quot;</td><td>&quot;US-10914740-B2&quot;</td><td>&quot;US-7858389-B2&quot;</td><td>&quot;US-9747412-B2&quot;</td></tr><tr><td>&quot;US-2017180470-A1&quot;</td><td>&quot;US-2017171349-A1&quot;</td><td>&quot;US-2017171301-A1&quot;</td><td>&quot;US-2017155712-A1&quot;</td><td>&quot;US-2017163642-A1&quot;</td><td>&quot;US-2017155740-A1&quot;</td><td>&quot;US-2017180760-A1&quot;</td><td>&quot;US-2017155927-A1&quot;</td><td>&quot;US-2014289307-A1&quot;</td><td>&quot;US-9550119-B2&quot;</td><td>&quot;US-2017163478-A1&quot;</td><td>&quot;US-9280384-B2&quot;</td><td>&quot;US-2017155928-A1&quot;</td><td>&quot;US-2017163479-A1&quot;</td><td>&quot;US-10798147-B2&quot;</td><td>&quot;US-2017171150-A1&quot;</td><td>&quot;US-11582325-B2&quot;</td><td>&quot;US-11057489-B2&quot;</td><td>&quot;US-2017150214-A1&quot;</td><td>&quot;US-10182126-B2&quot;</td><td>&quot;US-9456024-B1&quot;</td><td>&quot;US-2017155695-A1&quot;</td><td>&quot;US-2017163706-A1&quot;</td><td>&quot;US-2021234919-A1&quot;</td><td>&quot;US-2014073370-A1&quot;</td><td>&quot;US-10075387-B1&quot;</td><td>&quot;US-2012005274-A1&quot;</td><td>&quot;US-8180857-B2&quot;</td><td>&quot;US-2017171566-A1&quot;</td><td>&quot;US-11432171-B2&quot;</td><td>&quot;US-2018227220-A1&quot;</td><td>&quot;US-10231269-B2&quot;</td><td>&quot;US-2017163761-A1&quot;</td><td>&quot;US-2017180468-A1&quot;</td><td>&quot;US-2022263759-A1&quot;</td><td>&quot;US-11582153-B2&quot;</td><td>&quot;US-2019245912-A1&quot;</td><td>&quot;US-2021389960-A1&quot;</td><td>&quot;US-2017171147-A1&quot;</td><td>&quot;US-10958580-B2&quot;</td><td>&quot;US-10897506-B2&quot;</td><td>&quot;US-11586626-B1&quot;</td><td>&quot;US-10945130-B2&quot;</td><td>&quot;US-2023041645-A1&quot;</td><td>&quot;US-2014310385-A1&quot;</td><td>&quot;US-9749174-B1&quot;</td><td>&quot;US-2014344473-A1&quot;</td><td>&quot;US-2017142196-A1&quot;</td><td>&quot;US-9276860-B2&quot;</td><td>&quot;US-2017149934-A1&quot;</td><td>&quot;US-2017153909-A1&quot;</td></tr><tr><td>&quot;US-2018029544-A1&quot;</td><td>&quot;US-9597956-B2&quot;</td><td>&quot;US-2015197150-A1&quot;</td><td>&quot;US-2015034146-A1&quot;</td><td>&quot;US-2012132245-A1&quot;</td><td>&quot;US-2014137939-A1&quot;</td><td>&quot;US-2011073163-A1&quot;</td><td>&quot;US-10916749-B2&quot;</td><td>&quot;US-9350288-B2&quot;</td><td>&quot;US-2020105953-A1&quot;</td><td>&quot;US-8875828-B2&quot;</td><td>&quot;US-9016765-B1&quot;</td><td>&quot;US-2017104446-A1&quot;</td><td>&quot;US-2014174506-A1&quot;</td><td>&quot;US-5741370-A&quot;</td><td>&quot;US-2012240982-A1&quot;</td><td>&quot;US-2011226335-A1&quot;</td><td>&quot;US-2011146761-A1&quot;</td><td>&quot;US-2011315191-A1&quot;</td><td>&quot;US-2021193855-A1&quot;</td><td>&quot;US-11394071-B2&quot;</td><td>&quot;US-10211355-B2&quot;</td><td>&quot;US-2012080074-A1&quot;</td><td>&quot;US-5762720-A&quot;</td><td>&quot;US-2015194924-A1&quot;</td><td>&quot;US-2019319145-A1&quot;</td><td>&quot;US-2012315528-A1&quot;</td><td>&quot;US-2012103401-A1&quot;</td><td>&quot;US-2022367940-A1&quot;</td><td>&quot;US-8952236-B2&quot;</td><td>&quot;US-11431044-B2&quot;</td><td>&quot;US-2016043257-A1&quot;</td><td>&quot;US-6631943-B2&quot;</td><td>&quot;US-2013000689-A1&quot;</td><td>&quot;US-2011155221-A1&quot;</td><td>&quot;US-2023011595-A1&quot;</td><td>&quot;US-9722116-B2&quot;</td><td>&quot;US-2013118556-A1&quot;</td><td>&quot;US-2014345833-A1&quot;</td><td>&quot;US-2019035962-A1&quot;</td><td>&quot;US-9278617-B2&quot;</td><td>&quot;US-8748737-B2&quot;</td><td>&quot;US-4717790-A&quot;</td><td>&quot;US-2022320600-A1&quot;</td><td>&quot;US-10784390-B2&quot;</td><td>&quot;US-11152660-B2&quot;</td><td>&quot;US-2022407163-A1&quot;</td><td>&quot;US-8056664-B2&quot;</td><td>&quot;US-2022140428-A1&quot;</td><td>&quot;US-2011100421-A1&quot;</td><td>&quot;US-9242554-B2&quot;</td></tr><tr><td>&quot;US-2022408153-A1&quot;</td><td>&quot;US-7698238-B2&quot;</td><td>&quot;US-10593167-B2&quot;</td><td>&quot;US-2013268955-A1&quot;</td><td>&quot;US-2022337693-A1&quot;</td><td>&quot;US-11416128-B2&quot;</td><td>&quot;US-2023031160-A1&quot;</td><td>&quot;US-10834456-B2&quot;</td><td>&quot;US-8898687-B2&quot;</td><td>&quot;US-2020301398-A1&quot;</td><td>&quot;US-7610260-B2&quot;</td><td>&quot;US-2018018899-A1&quot;</td><td>&quot;US-2022020053-A1&quot;</td><td>&quot;US-2012004575-A1&quot;</td><td>&quot;US-11412178-B2&quot;</td><td>&quot;US-2022021682-A1&quot;</td><td>&quot;US-10960173-B2&quot;</td><td>&quot;US-9542567-B2&quot;</td><td>&quot;US-10225608-B2&quot;</td><td>&quot;US-11538454-B2&quot;</td><td>&quot;US-2015070516-A1&quot;</td><td>&quot;US-11671657-B2&quot;</td><td>&quot;US-2015081304-A1&quot;</td><td>&quot;US-2014337868-A1&quot;</td><td>&quot;US-9706235-B2&quot;</td><td>&quot;US-9894415-B2&quot;</td><td>&quot;US-2007271580-A1&quot;</td><td>&quot;US-10083363-B2&quot;</td><td>&quot;US-8634701-B2&quot;</td><td>&quot;US-10798438-B2&quot;</td><td>&quot;US-2022368770-A1&quot;</td><td>&quot;US-2015243083-A1&quot;</td><td>&quot;US-2021256046-A1&quot;</td><td>&quot;US-10368112-B2&quot;</td><td>&quot;US-10015385-B2&quot;</td><td>&quot;US-2014351720-A1&quot;</td><td>&quot;US-2014325540-A1&quot;</td><td>&quot;US-2023087729-A1&quot;</td><td>&quot;US-2019339771-A1&quot;</td><td>&quot;US-2019019336-A1&quot;</td><td>&quot;US-8704760-B2&quot;</td><td>&quot;US-11205426-B2&quot;</td><td>&quot;US-10466955-B1&quot;</td><td>&quot;US-11483618-B2&quot;</td><td>&quot;US-2020275875-A1&quot;</td><td>&quot;US-2015150032-A1&quot;</td><td>&quot;US-2022070066-A1&quot;</td><td>&quot;US-2022038510-A1&quot;</td><td>&quot;US-11057728-B2&quot;</td><td>&quot;US-2022391011-A1&quot;</td><td>&quot;US-10877555-B2&quot;</td></tr><tr><td>&quot;US-2268569-A&quot;</td><td>&quot;US-2332522-A&quot;</td><td>&quot;US-2268570-A&quot;</td><td>&quot;US-2407088-A&quot;</td><td>&quot;US-2581437-A&quot;</td><td>&quot;US-1972352-A&quot;</td><td>&quot;US-2201671-A&quot;</td><td>&quot;US-2625280-A&quot;</td><td>&quot;US-2319257-A&quot;</td><td>&quot;US-2770378-A&quot;</td><td>&quot;US-2593693-A&quot;</td><td>&quot;US-2365773-A&quot;</td><td>&quot;US-2231484-A&quot;</td><td>&quot;US-2585095-A&quot;</td><td>&quot;US-2676717-A&quot;</td><td>&quot;US-2592457-A&quot;</td><td>&quot;US-2406826-A&quot;</td><td>&quot;US-2070415-A&quot;</td><td>&quot;US-1514008-A&quot;</td><td>&quot;US-2249356-A&quot;</td><td>&quot;US-2409807-A&quot;</td><td>&quot;US-2041734-A&quot;</td><td>&quot;US-1431491-A&quot;</td><td>&quot;US-2546907-A&quot;</td><td>&quot;US-3095080-A&quot;</td><td>&quot;US-2252763-A&quot;</td><td>&quot;US-1761145-A&quot;</td><td>&quot;US-2537010-A&quot;</td><td>&quot;US-2392025-A&quot;</td><td>&quot;US-1504427-A&quot;</td><td>&quot;US-2008190-A&quot;</td><td>&quot;US-2104575-A&quot;</td><td>&quot;US-2301241-A&quot;</td><td>&quot;US-3526173-A&quot;</td><td>&quot;US-2625281-A&quot;</td><td>&quot;US-3035821-A&quot;</td><td>&quot;US-2768006-A&quot;</td><td>&quot;US-2100336-A&quot;</td><td>&quot;US-2507548-A&quot;</td><td>&quot;US-2198916-A&quot;</td><td>&quot;US-2524888-A&quot;</td><td>&quot;US-2824655-A&quot;</td><td>&quot;US-2099981-A&quot;</td><td>&quot;US-2588283-A&quot;</td><td>&quot;US-2268568-A&quot;</td><td>&quot;US-1739624-A&quot;</td><td>&quot;US-2439912-A&quot;</td><td>&quot;US-2157736-A&quot;</td><td>&quot;US-1277214-A&quot;</td><td>&quot;US-2321630-A&quot;</td><td>&quot;US-2707570-A&quot;</td></tr><tr><td>&quot;US-3371854-A&quot;</td><td>&quot;US-3371853-A&quot;</td><td>&quot;US-3428241-A&quot;</td><td>&quot;US-2888189-A&quot;</td><td>&quot;US-3343780-A&quot;</td><td>&quot;US-3244969-A&quot;</td><td>&quot;US-2993638-A&quot;</td><td>&quot;US-3327931-A&quot;</td><td>&quot;US-3330472-A&quot;</td><td>&quot;US-3449627-A&quot;</td><td>&quot;US-3181775-A&quot;</td><td>&quot;US-3796917-A&quot;</td><td>&quot;US-3338507-A&quot;</td><td>&quot;US-3367564-A&quot;</td><td>&quot;US-3391303-A&quot;</td><td>&quot;US-3093298-A&quot;</td><td>&quot;US-3339106-A&quot;</td><td>&quot;US-2042183-A&quot;</td><td>&quot;US-2157552-A&quot;</td><td>&quot;US-3112864-A&quot;</td><td>&quot;US-2956192-A&quot;</td><td>&quot;US-3258194-A&quot;</td><td>&quot;US-3343781-A&quot;</td><td>&quot;US-3495769-A&quot;</td><td>&quot;US-3070283-A&quot;</td><td>&quot;US-2967012-A&quot;</td><td>&quot;US-2796555-A&quot;</td><td>&quot;US-3496399-A&quot;</td><td>&quot;US-3117210-A&quot;</td><td>&quot;US-2108589-A&quot;</td><td>&quot;US-6570959-B1&quot;</td><td>&quot;US-3353055-A&quot;</td><td>&quot;US-3239133-A&quot;</td><td>&quot;US-3746474-A&quot;</td><td>&quot;US-3067346-A&quot;</td><td>&quot;US-4272699-A&quot;</td><td>&quot;US-3473064-A&quot;</td><td>&quot;US-1739513-A&quot;</td><td>&quot;US-2913167-A&quot;</td><td>&quot;US-2210674-A&quot;</td><td>&quot;US-9837243-B2&quot;</td><td>&quot;US-3460745-A&quot;</td><td>&quot;US-3217973-A&quot;</td><td>&quot;US-3769537-A&quot;</td><td>&quot;US-4506160-A&quot;</td><td>&quot;US-1981669-A&quot;</td><td>&quot;US-7960704-B2&quot;</td><td>&quot;US-3452237-A&quot;</td><td>&quot;US-3161802-A&quot;</td><td>&quot;US-2714165-A&quot;</td><td>&quot;US-3381890-A&quot;</td></tr><tr><td>&quot;US-3589189-A&quot;</td><td>&quot;US-5415032-A&quot;</td><td>&quot;US-3415121-A&quot;</td><td>&quot;US-1886364-A&quot;</td><td>&quot;US-3261206-A&quot;</td><td>&quot;US-1238453-A&quot;</td><td>&quot;US-1956281-A&quot;</td><td>&quot;US-2094445-A&quot;</td><td>&quot;US-2860513-A&quot;</td><td>&quot;US-1460715-A&quot;</td><td>&quot;US-2257591-A&quot;</td><td>&quot;US-2464499-A&quot;</td><td>&quot;US-3906793-A&quot;</td><td>&quot;US-1893601-A&quot;</td><td>&quot;US-373003-A&quot;</td><td>&quot;US-2741122-A&quot;</td><td>&quot;US-2121120-A&quot;</td><td>&quot;US-804464-A&quot;</td><td>&quot;US-2391703-A&quot;</td><td>&quot;US-2547301-A&quot;</td><td>&quot;US-115557-A&quot;</td><td>&quot;US-1651885-A&quot;</td><td>&quot;US-804465-A&quot;</td><td>&quot;US-1915663-A&quot;</td><td>&quot;US-2186307-A&quot;</td><td>&quot;US-2042767-A&quot;</td><td>&quot;US-2283532-A&quot;</td><td>&quot;US-2223555-A&quot;</td><td>&quot;US-1668078-A&quot;</td><td>&quot;US-1306217-A&quot;</td><td>&quot;US-933159-A&quot;</td><td>&quot;US-1949006-A&quot;</td><td>&quot;US-2590275-A&quot;</td><td>&quot;US-2086252-A&quot;</td><td>&quot;US-1911521-A&quot;</td><td>&quot;US-2005024-A&quot;</td><td>&quot;US-1965892-A&quot;</td><td>&quot;US-3427986-A&quot;</td><td>&quot;US-3220257-A&quot;</td><td>&quot;US-2087567-A&quot;</td><td>&quot;US-2818046-A&quot;</td><td>&quot;US-2399316-A&quot;</td><td>&quot;US-1809118-A&quot;</td><td>&quot;US-3780912-A&quot;</td><td>&quot;US-2241132-A&quot;</td><td>&quot;US-2116296-A&quot;</td><td>&quot;US-1508937-A&quot;</td><td>&quot;US-2622566-A&quot;</td><td>&quot;US-1694747-A&quot;</td><td>&quot;US-1895318-A&quot;</td><td>&quot;US-2541086-A&quot;</td></tr><tr><td>&quot;US-3881203-A&quot;</td><td>&quot;US-2777179-A&quot;</td><td>&quot;US-3898717-A&quot;</td><td>&quot;US-2453507-A&quot;</td><td>&quot;US-2290891-A&quot;</td><td>&quot;US-1981280-A&quot;</td><td>&quot;US-4013172-A&quot;</td><td>&quot;US-3039470-A&quot;</td><td>&quot;US-4531764-A&quot;</td><td>&quot;US-2980118-A&quot;</td><td>&quot;US-2314532-A&quot;</td><td>&quot;US-1998503-A&quot;</td><td>&quot;US-4189048-A&quot;</td><td>&quot;US-4892333-A&quot;</td><td>&quot;US-3217369-A&quot;</td><td>&quot;US-4606666-A&quot;</td><td>&quot;US-3267546-A&quot;</td><td>&quot;US-4162659-A&quot;</td><td>&quot;US-1982272-A&quot;</td><td>&quot;US-2311641-A&quot;</td><td>&quot;US-2807369-A&quot;</td><td>&quot;US-2827719-A&quot;</td><td>&quot;US-2242737-A&quot;</td><td>&quot;US-5165722-A&quot;</td><td>&quot;US-2631560-A&quot;</td><td>&quot;US-5947521-A&quot;</td><td>&quot;US-2413157-A&quot;</td><td>&quot;US-4824141-A&quot;</td><td>&quot;US-5253968-A&quot;</td><td>&quot;US-3513806-A&quot;</td><td>&quot;US-2532487-A&quot;</td><td>&quot;US-2184786-A&quot;</td><td>&quot;US-2068280-A&quot;</td><td>&quot;US-2891552-A&quot;</td><td>&quot;US-2765925-A&quot;</td><td>&quot;US-2951483-A&quot;</td><td>&quot;US-2061492-A&quot;</td><td>&quot;US-4501438-A&quot;</td><td>&quot;US-5116012-A&quot;</td><td>&quot;US-2633849-A&quot;</td><td>&quot;US-2289665-A&quot;</td><td>&quot;US-4773787-A&quot;</td><td>&quot;US-2143327-A&quot;</td><td>&quot;US-3181218-A&quot;</td><td>&quot;US-3950012-A&quot;</td><td>&quot;US-2600980-A&quot;</td><td>&quot;US-3734155-A&quot;</td><td>&quot;US-2073172-A&quot;</td><td>&quot;US-5010629-A&quot;</td><td>&quot;US-2443216-A&quot;</td><td>&quot;US-2600927-A&quot;</td></tr><tr><td>&quot;US-4845770-A&quot;</td><td>&quot;US-3177470-A&quot;</td><td>&quot;US-3627991-A&quot;</td><td>&quot;US-5301243-A&quot;</td><td>&quot;US-5053612-A&quot;</td><td>&quot;US-4471217-A&quot;</td><td>&quot;US-4246568-A&quot;</td><td>&quot;US-3801776-A&quot;</td><td>&quot;US-5818956-A&quot;</td><td>&quot;US-3673416-A&quot;</td><td>&quot;US-3937928-A&quot;</td><td>&quot;US-4886957-A&quot;</td><td>&quot;US-5046005-A&quot;</td><td>&quot;US-6414293-B1&quot;</td><td>&quot;US-3735094-A&quot;</td><td>&quot;US-3939327-A&quot;</td><td>&quot;US-4118687-A&quot;</td><td>&quot;US-6076731-A&quot;</td><td>&quot;US-5739518-A&quot;</td><td>&quot;US-5248872-A&quot;</td><td>&quot;US-4553837-A&quot;</td><td>&quot;US-5747823-A&quot;</td><td>&quot;US-3735350-A&quot;</td><td>&quot;US-7130090-B2&quot;</td><td>&quot;US-3408482-A&quot;</td><td>&quot;US-5684286-A&quot;</td><td>&quot;US-5959286-A&quot;</td><td>&quot;US-6703633-B2&quot;</td><td>&quot;US-4809340-A&quot;</td><td>&quot;US-6263090-B1&quot;</td><td>&quot;US-5920384-A&quot;</td><td>&quot;US-5663552-A&quot;</td><td>&quot;US-6005255-A&quot;</td><td>&quot;US-3814933-A&quot;</td><td>&quot;US-4672184-A&quot;</td><td>&quot;US-3812347-A&quot;</td><td>&quot;US-6270013-B1&quot;</td><td>&quot;US-5999666-A&quot;</td><td>&quot;US-3805027-A&quot;</td><td>&quot;US-7180643-B2&quot;</td><td>&quot;US-3611292-A&quot;</td><td>&quot;US-6257389-B1&quot;</td><td>&quot;US-3737629-A&quot;</td><td>&quot;US-6729543-B1&quot;</td><td>&quot;US-3896294-A&quot;</td><td>&quot;US-5216523-A&quot;</td><td>&quot;US-4275381-A&quot;</td><td>&quot;US-3600593-A&quot;</td><td>&quot;US-5692068-A&quot;</td><td>&quot;US-3918028-A&quot;</td><td>&quot;US-2014125786-A1&quot;</td></tr><tr><td>&quot;US-695233-A&quot;</td><td>&quot;US-737196-A&quot;</td><td>&quot;US-609673-A&quot;</td><td>&quot;US-635029-A&quot;</td><td>&quot;US-696859-A&quot;</td><td>&quot;US-914544-A&quot;</td><td>&quot;US-735502-A&quot;</td><td>&quot;US-839428-A&quot;</td><td>&quot;US-789128-A&quot;</td><td>&quot;US-700908-A&quot;</td><td>&quot;US-801061-A&quot;</td><td>&quot;US-707796-A&quot;</td><td>&quot;US-1739951-A&quot;</td><td>&quot;US-780968-A&quot;</td><td>&quot;US-630066-A&quot;</td><td>&quot;US-704032-A&quot;</td><td>&quot;US-753447-A&quot;</td><td>&quot;US-649811-A&quot;</td><td>&quot;US-798821-A&quot;</td><td>&quot;US-651340-A&quot;</td><td>&quot;US-766527-A&quot;</td><td>&quot;US-675461-A&quot;</td><td>&quot;US-657209-A&quot;</td><td>&quot;US-774466-A&quot;</td><td>&quot;US-620179-A&quot;</td><td>&quot;US-816976-A&quot;</td><td>&quot;US-625260-A&quot;</td><td>&quot;US-852620-A&quot;</td><td>&quot;US-1038081-A&quot;</td><td>&quot;US-619509-A&quot;</td><td>&quot;US-850148-A&quot;</td><td>&quot;US-842345-A&quot;</td><td>&quot;US-687534-A&quot;</td><td>&quot;US-837737-A&quot;</td><td>&quot;US-822249-A&quot;</td><td>&quot;US-766475-A&quot;</td><td>&quot;US-610306-A&quot;</td><td>&quot;US-675376-A&quot;</td><td>&quot;US-746819-A&quot;</td><td>&quot;US-848331-A&quot;</td><td>&quot;US-1313607-A&quot;</td><td>&quot;US-608270-A&quot;</td><td>&quot;US-690356-A&quot;</td><td>&quot;US-667774-A&quot;</td><td>&quot;US-716563-A&quot;</td><td>&quot;US-1202872-A&quot;</td><td>&quot;US-864215-A&quot;</td><td>&quot;US-640142-A&quot;</td><td>&quot;US-647027-A&quot;</td><td>&quot;US-606673-A&quot;</td><td>&quot;US-973925-A&quot;</td></tr></tbody></table></div>"
      ],
      "text/plain": [
       "shape: (10, 51)\n",
       "┌───────────┬───────────┬───────────┬───────────┬───┬───────────┬───────────┬───────────┬──────────┐\n",
       "│ publicati ┆ target_0  ┆ target_1  ┆ target_2  ┆ … ┆ target_46 ┆ target_47 ┆ target_48 ┆ target_4 │\n",
       "│ on_number ┆ ---       ┆ ---       ┆ ---       ┆   ┆ ---       ┆ ---       ┆ ---       ┆ 9        │\n",
       "│ ---       ┆ str       ┆ str       ┆ str       ┆   ┆ str       ┆ str       ┆ str       ┆ ---      │\n",
       "│ str       ┆           ┆           ┆           ┆   ┆           ┆           ┆           ┆ str      │\n",
       "╞═══════════╪═══════════╪═══════════╪═══════════╪═══╪═══════════╪═══════════╪═══════════╪══════════╡\n",
       "│ US-201708 ┆ US-202022 ┆ US-201013 ┆ US-106077 ┆ … ┆ US-200306 ┆ US-109147 ┆ US-785838 ┆ US-97474 │\n",
       "│ 2634-A1   ┆ 5242-A1   ┆ 7151-A1   ┆ 21-B2     ┆   ┆ 0983-A1   ┆ 40-B2     ┆ 9-B2      ┆ 12-B2    │\n",
       "│ US-201718 ┆ US-201717 ┆ US-201717 ┆ US-201715 ┆ … ┆ US-201714 ┆ US-927686 ┆ US-201714 ┆ US-20171 │\n",
       "│ 0470-A1   ┆ 1349-A1   ┆ 1301-A1   ┆ 5712-A1   ┆   ┆ 2196-A1   ┆ 0-B2      ┆ 9934-A1   ┆ 53909-A1 │\n",
       "│ US-201802 ┆ US-959795 ┆ US-201519 ┆ US-201503 ┆ … ┆ US-805666 ┆ US-202214 ┆ US-201110 ┆ US-92425 │\n",
       "│ 9544-A1   ┆ 6-B2      ┆ 7150-A1   ┆ 4146-A1   ┆   ┆ 4-B2      ┆ 0428-A1   ┆ 0421-A1   ┆ 54-B2    │\n",
       "│ US-202240 ┆ US-769823 ┆ US-105931 ┆ US-201326 ┆ … ┆ US-202203 ┆ US-110577 ┆ US-202239 ┆ US-10877 │\n",
       "│ 8153-A1   ┆ 8-B2      ┆ 67-B2     ┆ 8955-A1   ┆   ┆ 8510-A1   ┆ 28-B2     ┆ 1011-A1   ┆ 555-B2   │\n",
       "│ US-226856 ┆ US-233252 ┆ US-226857 ┆ US-240708 ┆ … ┆ US-215773 ┆ US-127721 ┆ US-232163 ┆ US-27075 │\n",
       "│ 9-A       ┆ 2-A       ┆ 0-A       ┆ 8-A       ┆   ┆ 6-A       ┆ 4-A       ┆ 0-A       ┆ 70-A     │\n",
       "│ US-337185 ┆ US-337185 ┆ US-342824 ┆ US-288818 ┆ … ┆ US-345223 ┆ US-316180 ┆ US-271416 ┆ US-33818 │\n",
       "│ 4-A       ┆ 3-A       ┆ 1-A       ┆ 9-A       ┆   ┆ 7-A       ┆ 2-A       ┆ 5-A       ┆ 90-A     │\n",
       "│ US-358918 ┆ US-541503 ┆ US-341512 ┆ US-188636 ┆ … ┆ US-262256 ┆ US-169474 ┆ US-189531 ┆ US-25410 │\n",
       "│ 9-A       ┆ 2-A       ┆ 1-A       ┆ 4-A       ┆   ┆ 6-A       ┆ 7-A       ┆ 8-A       ┆ 86-A     │\n",
       "│ US-388120 ┆ US-277717 ┆ US-389871 ┆ US-245350 ┆ … ┆ US-207317 ┆ US-501062 ┆ US-244321 ┆ US-26009 │\n",
       "│ 3-A       ┆ 9-A       ┆ 7-A       ┆ 7-A       ┆   ┆ 2-A       ┆ 9-A       ┆ 6-A       ┆ 27-A     │\n",
       "│ US-484577 ┆ US-317747 ┆ US-362799 ┆ US-530124 ┆ … ┆ US-360059 ┆ US-569206 ┆ US-391802 ┆ US-20141 │\n",
       "│ 0-A       ┆ 0-A       ┆ 1-A       ┆ 3-A       ┆   ┆ 3-A       ┆ 8-A       ┆ 8-A       ┆ 25786-A1 │\n",
       "│ US-695233 ┆ US-737196 ┆ US-609673 ┆ US-635029 ┆ … ┆ US-640142 ┆ US-647027 ┆ US-606673 ┆ US-97392 │\n",
       "│ -A        ┆ -A        ┆ -A        ┆ -A        ┆   ┆ -A        ┆ -A        ┆ -A        ┆ 5-A      │\n",
       "└───────────┴───────────┴───────────┴───────────┴───┴───────────┴───────────┴───────────┴──────────┘"
      ]
     },
     "execution_count": 2,
     "metadata": {},
     "output_type": "execute_result"
    }
   ],
   "source": [
    "df_test = pl.read_csv(competition_data_directory / \"test.csv\")\n",
    "df_test"
   ]
  },
  {
   "cell_type": "markdown",
   "id": "edb107e8",
   "metadata": {
    "papermill": {
     "duration": 0.007889,
     "end_time": "2024-05-06T17:31:16.266372",
     "exception": false,
     "start_time": "2024-05-06T17:31:16.258483",
     "status": "completed"
    },
    "tags": []
   },
   "source": [
    "# Query Builder"
   ]
  },
  {
   "cell_type": "code",
   "execution_count": 3,
   "id": "58eb87a6",
   "metadata": {
    "ExecuteTime": {
     "end_time": "2024-05-06T16:28:23.045972Z",
     "start_time": "2024-05-06T16:28:19.387893Z"
    },
    "execution": {
     "iopub.execute_input": "2024-05-06T17:31:16.285267Z",
     "iopub.status.busy": "2024-05-06T17:31:16.284647Z",
     "iopub.status.idle": "2024-05-06T17:31:25.153533Z",
     "shell.execute_reply": "2024-05-06T17:31:25.152180Z"
    },
    "papermill": {
     "duration": 8.882256,
     "end_time": "2024-05-06T17:31:25.157001",
     "exception": false,
     "start_time": "2024-05-06T17:31:16.274745",
     "status": "completed"
    },
    "tags": []
   },
   "outputs": [
    {
     "data": {
      "text/html": [
       "<div><style>\n",
       ".dataframe > thead > tr,\n",
       ".dataframe > tbody > tr {\n",
       "  text-align: right;\n",
       "  white-space: pre-wrap;\n",
       "}\n",
       "</style>\n",
       "<small>shape: (13_307_751, 5)</small><table border=\"1\" class=\"dataframe\"><thead><tr><th>publication_number</th><th>publication_date</th><th>filing_date</th><th>family_id</th><th>cpc_codes</th></tr><tr><td>str</td><td>datetime[μs]</td><td>datetime[μs]</td><td>i32</td><td>list[str]</td></tr></thead><tbody><tr><td>&quot;US-1-A&quot;</td><td>1836-07-13 00:00:00</td><td>null</td><td>2060279</td><td>[&quot;B61C11/04&quot;]</td></tr><tr><td>&quot;US-1-P&quot;</td><td>1931-08-18 00:00:00</td><td>1930-08-06 00:00:00</td><td>49893162</td><td>[&quot;A01H5/02&quot;, &quot;A01H6/749&quot;]</td></tr><tr><td>&quot;US-10-A&quot;</td><td>1836-08-10 00:00:00</td><td>null</td><td>2060288</td><td>[&quot;B27J1/00&quot;]</td></tr><tr><td>&quot;US-1000-A&quot;</td><td>1838-11-03 00:00:00</td><td>null</td><td>2061286</td><td>[&quot;B60G11/04&quot;, &quot;Y10S507/905&quot;]</td></tr><tr><td>&quot;US-10000-A&quot;</td><td>1853-09-06 00:00:00</td><td>null</td><td>2070320</td><td>[&quot;F04D29/283&quot;]</td></tr><tr><td>&hellip;</td><td>&hellip;</td><td>&hellip;</td><td>&hellip;</td><td>&hellip;</td></tr><tr><td>&quot;US-T999003-I4&quot;</td><td>1980-10-07 00:00:00</td><td>1980-04-25 00:00:00</td><td>3067331</td><td>[&quot;G03C8/10&quot;]</td></tr><tr><td>&quot;US-X1-I1&quot;</td><td>1790-07-31 00:00:00</td><td>1790-07-31 00:00:00</td><td>40303722</td><td>[&quot;C01D3/08&quot;]</td></tr><tr><td>&quot;US-X7668-I1&quot;</td><td>1833-07-22 00:00:00</td><td>null</td><td>53773065</td><td>[]</td></tr><tr><td>&quot;US-X7982-I1&quot;</td><td>1834-01-27 00:00:00</td><td>null</td><td>53773067</td><td>[]</td></tr><tr><td>&quot;US-X8736-I1&quot;</td><td>1835-03-31 00:00:00</td><td>null</td><td>53773068</td><td>[]</td></tr></tbody></table></div>"
      ],
      "text/plain": [
       "shape: (13_307_751, 5)\n",
       "┌────────────────────┬─────────────────────┬─────────────────────┬───────────┬────────────────┐\n",
       "│ publication_number ┆ publication_date    ┆ filing_date         ┆ family_id ┆ cpc_codes      │\n",
       "│ ---                ┆ ---                 ┆ ---                 ┆ ---       ┆ ---            │\n",
       "│ str                ┆ datetime[μs]        ┆ datetime[μs]        ┆ i32       ┆ list[str]      │\n",
       "╞════════════════════╪═════════════════════╪═════════════════════╪═══════════╪════════════════╡\n",
       "│ US-1-A             ┆ 1836-07-13 00:00:00 ┆ null                ┆ 2060279   ┆ [\"B61C11/04\"]  │\n",
       "│ US-1-P             ┆ 1931-08-18 00:00:00 ┆ 1930-08-06 00:00:00 ┆ 49893162  ┆ [\"A01H5/02\",   │\n",
       "│                    ┆                     ┆                     ┆           ┆ \"A01H6/749\"]   │\n",
       "│ US-10-A            ┆ 1836-08-10 00:00:00 ┆ null                ┆ 2060288   ┆ [\"B27J1/00\"]   │\n",
       "│ US-1000-A          ┆ 1838-11-03 00:00:00 ┆ null                ┆ 2061286   ┆ [\"B60G11/04\",  │\n",
       "│                    ┆                     ┆                     ┆           ┆ \"Y10S507/905\"] │\n",
       "│ US-10000-A         ┆ 1853-09-06 00:00:00 ┆ null                ┆ 2070320   ┆ [\"F04D29/283\"] │\n",
       "│ …                  ┆ …                   ┆ …                   ┆ …         ┆ …              │\n",
       "│ US-T999003-I4      ┆ 1980-10-07 00:00:00 ┆ 1980-04-25 00:00:00 ┆ 3067331   ┆ [\"G03C8/10\"]   │\n",
       "│ US-X1-I1           ┆ 1790-07-31 00:00:00 ┆ 1790-07-31 00:00:00 ┆ 40303722  ┆ [\"C01D3/08\"]   │\n",
       "│ US-X7668-I1        ┆ 1833-07-22 00:00:00 ┆ null                ┆ 53773065  ┆ []             │\n",
       "│ US-X7982-I1        ┆ 1834-01-27 00:00:00 ┆ null                ┆ 53773067  ┆ []             │\n",
       "│ US-X8736-I1        ┆ 1835-03-31 00:00:00 ┆ null                ┆ 53773068  ┆ []             │\n",
       "└────────────────────┴─────────────────────┴─────────────────────┴───────────┴────────────────┘"
      ]
     },
     "execution_count": 3,
     "metadata": {},
     "output_type": "execute_result"
    }
   ],
   "source": [
    "df_patent_metadata = pl.read_parquet(competition_data_directory / \"patent_metadata.parquet\")\n",
    "df_patent_metadata = df_patent_metadata.with_columns(family_id=df_patent_metadata[\"family_id\"].cast(pl.Int32))\n",
    "df_patent_metadata"
   ]
  },
  {
   "cell_type": "code",
   "execution_count": 4,
   "id": "616c2331",
   "metadata": {
    "ExecuteTime": {
     "end_time": "2024-05-06T16:28:30.838285Z",
     "start_time": "2024-05-06T16:28:23.047140Z"
    },
    "execution": {
     "iopub.execute_input": "2024-05-06T17:31:25.176713Z",
     "iopub.status.busy": "2024-05-06T17:31:25.176277Z",
     "iopub.status.idle": "2024-05-06T17:31:37.037397Z",
     "shell.execute_reply": "2024-05-06T17:31:37.036167Z"
    },
    "papermill": {
     "duration": 11.874959,
     "end_time": "2024-05-06T17:31:37.040612",
     "exception": false,
     "start_time": "2024-05-06T17:31:25.165653",
     "status": "completed"
    },
    "tags": []
   },
   "outputs": [
    {
     "data": {
      "text/plain": [
       "(0, 3738871)"
      ]
     },
     "execution_count": 4,
     "metadata": {},
     "output_type": "execute_result"
    }
   ],
   "source": [
    "publication_number_index = {v: i for i, v in enumerate(df_patent_metadata[\"publication_number\"].to_list())}\n",
    "publication_number_index[\"US-1-A\"], publication_number_index[\"US-2017082634-A1\"]"
   ]
  },
  {
   "cell_type": "code",
   "execution_count": 5,
   "id": "94f0d60b",
   "metadata": {
    "ExecuteTime": {
     "end_time": "2024-05-06T17:17:13.214983Z",
     "start_time": "2024-05-06T17:16:26.435314Z"
    },
    "execution": {
     "iopub.execute_input": "2024-05-06T17:31:37.059812Z",
     "iopub.status.busy": "2024-05-06T17:31:37.059402Z",
     "iopub.status.idle": "2024-05-06T17:33:36.661623Z",
     "shell.execute_reply": "2024-05-06T17:33:36.660290Z"
    },
    "papermill": {
     "duration": 119.614696,
     "end_time": "2024-05-06T17:33:36.664141",
     "exception": false,
     "start_time": "2024-05-06T17:31:37.049445",
     "status": "completed"
    },
    "tags": []
   },
   "outputs": [
    {
     "data": {
      "application/vnd.jupyter.widget-view+json": {
       "model_id": "9faf9e9228434c4b8ecfaff70a0c3621",
       "version_major": 2,
       "version_minor": 0
      },
      "text/plain": [
       "  0%|          | 0/2251 [00:00<?, ?it/s]"
      ]
     },
     "metadata": {},
     "output_type": "display_data"
    },
    {
     "data": {
      "text/plain": [
       "([('ti:and', 4053669),\n",
       "  ('ti:method', 2345794),\n",
       "  ('ti:a', 1444966),\n",
       "  ('ti:device', 1260129),\n",
       "  ('ti:apparatus', 1239351)],\n",
       " {'ti:and': 0.3046117506175767,\n",
       "  'ti:method': 0.1762739920127193,\n",
       "  'ti:a': 0.108581540042583,\n",
       "  'ti:device': 0.09469201868578228,\n",
       "  'ti:apparatus': 0.09313066205939467})"
      ]
     },
     "execution_count": 5,
     "metadata": {},
     "output_type": "execute_result"
    }
   ],
   "source": [
    "term_counter = Counter()\n",
    "term_counter_patents = 0\n",
    "\n",
    "stopwords_pattern = \"|\".join(f\"\\\\b{word}\\\\b\" for word in [\n",
    "    \"an\", \"are\", \"by\", \"for\", \"if\", \"into\", \"is\", \"no\", \"not\", \"of\", \"on\", \"such\",\n",
    "    \"that\", \"the\", \"their\", \"then\", \"there\", \"these\", \"they\", \"this\", \"to\", \"was\", \"will\",\n",
    "])\n",
    "\n",
    "def add_terms_to_counter(terms: pl.Series, prefix: str) -> None:\n",
    "    for term, count in terms.value_counts(parallel=True).rows():\n",
    "        if term is not None and term != \"\":\n",
    "            term_counter[f\"{prefix}:{term}\"] += count\n",
    "\n",
    "def add_texts_to_counter(texts: pl.Series, prefix: str) -> None:\n",
    "    terms = texts \\\n",
    "        .str.to_lowercase() \\\n",
    "        .str.replace_all(fr\"\\d+|{stopwords_pattern}\", \"\") \\\n",
    "        .str.split(\" \") \\\n",
    "        .list.unique() \\\n",
    "        .list.explode()\n",
    "\n",
    "    add_terms_to_counter(terms, prefix)\n",
    "\n",
    "add_terms_to_counter(df_patent_metadata[\"cpc_codes\"].list.explode(), \"cpc\")\n",
    "\n",
    "for patent_data_file in tqdm(list((competition_data_directory / \"patent_data\").iterdir())):\n",
    "    df = pl.read_parquet(patent_data_file, columns=[\"title\"])\n",
    "\n",
    "    add_texts_to_counter(df[\"title\"], \"ti\")\n",
    "    term_counter_patents += df.shape[0]\n",
    "\n",
    "term_selectivity = {term: count / term_counter_patents for term, count in term_counter.items()}\n",
    "\n",
    "most_common = term_counter.most_common(5)\n",
    "most_common, {term: term_selectivity[term] for term, _ in most_common}"
   ]
  },
  {
   "cell_type": "code",
   "execution_count": 6,
   "id": "353f04ce",
   "metadata": {
    "ExecuteTime": {
     "end_time": "2024-05-06T17:22:24.993056Z",
     "start_time": "2024-05-06T17:22:24.972959Z"
    },
    "execution": {
     "iopub.execute_input": "2024-05-06T17:33:36.684631Z",
     "iopub.status.busy": "2024-05-06T17:33:36.684151Z",
     "iopub.status.idle": "2024-05-06T17:33:36.732953Z",
     "shell.execute_reply": "2024-05-06T17:33:36.731134Z"
    },
    "papermill": {
     "duration": 0.062195,
     "end_time": "2024-05-06T17:33:36.735558",
     "exception": false,
     "start_time": "2024-05-06T17:33:36.673363",
     "status": "completed"
    },
    "tags": []
   },
   "outputs": [
    {
     "data": {
      "text/plain": [
       "{'cpc:C12Q1/485',\n",
       " 'cpc:G01N2570/00',\n",
       " 'cpc:G01N33/6845',\n",
       " 'cpc:G01N33/6848',\n",
       " 'cpc:G06F19/20',\n",
       " 'cpc:G16B25/00',\n",
       " 'cpc:G16B25/10',\n",
       " 'cpc:G16B5/00',\n",
       " 'ti:and',\n",
       " 'ti:multiplexed',\n",
       " 'ti:phosphoproteomics',\n",
       " 'ti:proteomics'}"
      ]
     },
     "execution_count": 6,
     "metadata": {},
     "output_type": "execute_result"
    }
   ],
   "source": [
    "whoosh_text_analyzer = whoosh_utils._define_uspto_whoosh_schema()[\"ti\"].analyzer\n",
    "\n",
    "def extract_text_tokens(text: str) -> list[str]:\n",
    "    return [token.text for token in whoosh_text_analyzer(text)]\n",
    "\n",
    "def get_terms_by_publication_number(publication_number: str) -> set[str]:\n",
    "    metadata_idx = publication_number_index[publication_number]\n",
    "\n",
    "    publication_date = df_patent_metadata[\"publication_date\"][metadata_idx]\n",
    "    if publication_date is not None:\n",
    "        year, month = publication_date.year, publication_date.month\n",
    "    else:\n",
    "        year, month = \"nan\", \"nan\"\n",
    "\n",
    "    df_patent_data = pl.scan_parquet(competition_data_directory / \"patent_data\" / f\"{year}_{month}.parquet\") \\\n",
    "        .filter(pl.col(\"publication_number\") == publication_number) \\\n",
    "        .limit(1) \\\n",
    "        .select(pl.col([\"title\"])) \\\n",
    "        .collect(streaming=True)\n",
    "\n",
    "    cpc_codes = df_patent_metadata[\"cpc_codes\"][metadata_idx]\n",
    "    cpc_terms = [f\"cpc:{code}\" for code in cpc_codes]\n",
    "\n",
    "    title = df_patent_data[\"title\"][0]\n",
    "    title_terms = [f\"ti:{token}\" for token in extract_text_tokens(title)]\n",
    "\n",
    "    return set(cpc_terms + title_terms)\n",
    "\n",
    "get_terms_by_publication_number(\"US-2017082634-A1\")"
   ]
  },
  {
   "cell_type": "code",
   "execution_count": 7,
   "id": "0a1f7643",
   "metadata": {
    "ExecuteTime": {
     "end_time": "2024-05-06T16:29:22.333163Z",
     "start_time": "2024-05-06T16:29:22.326434Z"
    },
    "execution": {
     "iopub.execute_input": "2024-05-06T17:33:36.757071Z",
     "iopub.status.busy": "2024-05-06T17:33:36.756563Z",
     "iopub.status.idle": "2024-05-06T17:33:36.770540Z",
     "shell.execute_reply": "2024-05-06T17:33:36.769324Z"
    },
    "papermill": {
     "duration": 0.028094,
     "end_time": "2024-05-06T17:33:36.773055",
     "exception": false,
     "start_time": "2024-05-06T17:33:36.744961",
     "status": "completed"
    },
    "tags": []
   },
   "outputs": [
    {
     "data": {
      "text/plain": [
       "'((a b) OR (c d)) XOR (e f) XOR (g h i)'"
      ]
     },
     "execution_count": 7,
     "metadata": {},
     "output_type": "execute_result"
    }
   ],
   "source": [
    "def serialize_term_group(group: list[str]) -> str:\n",
    "    if len(group) == 1:\n",
    "        return group[0]\n",
    "    else:\n",
    "        return \"(\" + \" \".join(group) + \")\"\n",
    "\n",
    "def serialize_term_groups(or_groups: list[list[str]], xor_groups: list[list[str]]) -> str:\n",
    "    or_subquery = \" OR \".join(map(serialize_term_group, or_groups))\n",
    "    xor_subquery = \" XOR \".join(map(serialize_term_group, xor_groups))\n",
    "\n",
    "    if len(or_groups) > 0 and len(xor_groups) > 0:\n",
    "        return f\"({or_subquery}) XOR {xor_subquery}\"\n",
    "    elif len(or_groups) > 0:\n",
    "        return or_subquery\n",
    "    elif len(xor_groups) > 0:\n",
    "        return xor_subquery\n",
    "    else:\n",
    "        return \"\"\n",
    "\n",
    "serialize_term_groups([[\"a\", \"b\"], [\"c\", \"d\"]], [[\"e\", \"f\"], [\"g\", \"h\", \"i\"]])"
   ]
  },
  {
   "cell_type": "code",
   "execution_count": 8,
   "id": "aa9b199f",
   "metadata": {
    "ExecuteTime": {
     "end_time": "2024-05-06T16:29:22.342423Z",
     "start_time": "2024-05-06T16:29:22.335369Z"
    },
    "execution": {
     "iopub.execute_input": "2024-05-06T17:33:36.794607Z",
     "iopub.status.busy": "2024-05-06T17:33:36.794122Z",
     "iopub.status.idle": "2024-05-06T17:33:36.803407Z",
     "shell.execute_reply": "2024-05-06T17:33:36.802194Z"
    },
    "papermill": {
     "duration": 0.023498,
     "end_time": "2024-05-06T17:33:36.806068",
     "exception": false,
     "start_time": "2024-05-06T17:33:36.782570",
     "status": "completed"
    },
    "tags": []
   },
   "outputs": [
    {
     "data": {
      "text/plain": [
       "(0.3046117506175767, 0.09469201868578228, 0.028844301581388426)"
      ]
     },
     "execution_count": 8,
     "metadata": {},
     "output_type": "execute_result"
    }
   ],
   "source": [
    "def get_itemset_selectivity(itemset: frozenset) -> float:\n",
    "    selectivity = 1\n",
    "\n",
    "    for term in itemset:\n",
    "        selectivity *= term_selectivity.get(term, 1)\n",
    "\n",
    "    return selectivity\n",
    "\n",
    "get_itemset_selectivity(frozenset([\"ti:and\"])), get_itemset_selectivity(frozenset([\"ti:device\"])), get_itemset_selectivity(frozenset([\"ti:and\", \"ti:device\"]))"
   ]
  },
  {
   "cell_type": "code",
   "execution_count": 11,
   "id": "8614d929",
   "metadata": {
    "ExecuteTime": {
     "end_time": "2024-05-06T17:22:36.613427Z",
     "start_time": "2024-05-06T17:22:36.130168Z"
    },
    "execution": {
     "iopub.execute_input": "2024-05-06T17:33:36.827696Z",
     "iopub.status.busy": "2024-05-06T17:33:36.827230Z",
     "iopub.status.idle": "2024-05-06T17:33:37.566386Z",
     "shell.execute_reply": "2024-05-06T17:33:37.564763Z"
    },
    "papermill": {
     "duration": 0.75349,
     "end_time": "2024-05-06T17:33:37.569213",
     "exception": false,
     "start_time": "2024-05-06T17:33:36.815723",
     "status": "completed"
    },
    "tags": []
   },
   "outputs": [
    {
     "data": {
      "text/plain": [
       "'((cpc:G16B40/10 cpc:H01J49/0036) OR (ti:proteomics cpc:G01N33/6848) OR (cpc:G01N2458/15 cpc:G01N33/6848) OR (cpc:G01N33/6848 cpc:H01J49/00) OR (ti:proteomics ti:multiplexed) OR (cpc:H01J49/0027 cpc:G16B40/10) OR (cpc:H01J49/0027 cpc:H01J49/0036) OR (cpc:H01J49/0027 cpc:H01J49/004) OR (cpc:G16B40/10 cpc:G06F19/24) OR (cpc:G16C20/70 cpc:G16C20/20) OR (cpc:G01N33/6848 cpc:G16C20/90) OR (cpc:G01N2560/00 cpc:G01N2570/00)) XOR (cpc:G01N33/6842 cpc:G01N33/6851) XOR (ti:kinases ti:phosphatases) XOR (cpc:H01J49/0031 cpc:G01N2560/00) XOR (cpc:G16B30/00 ti:proteomic) XOR (cpc:G01N33/6818 cpc:G16B30/00)'"
      ]
     },
     "execution_count": 11,
     "metadata": {},
     "output_type": "execute_result"
    }
   ],
   "source": [
    "def build_query(row: tuple[str, ...]) -> str:\n",
    "    targets = row[1:]\n",
    "\n",
    "    terms_by_target = list(map(get_terms_by_publication_number, targets))\n",
    "    unique_terms = set().union(*terms_by_target)\n",
    "\n",
    "    if len(unique_terms) == 0:\n",
    "        return \"ti:device\"\n",
    "\n",
    "    df_mlxtend = {term: [] for term in unique_terms}\n",
    "    for target_terms in terms_by_target:\n",
    "        for term in unique_terms:\n",
    "            df_mlxtend[term].append(term in target_terms)\n",
    "\n",
    "    df_mlxtend = pd.DataFrame(df_mlxtend)\n",
    "    df_mlxtend = mlxtend.frequent_patterns.fpgrowth(df_mlxtend, min_support=1 / len(targets) * 1, max_len=2, use_colnames=True)\n",
    "    df_mlxtend[\"selectivity\"] = np.round(df_mlxtend[\"itemsets\"].apply(get_itemset_selectivity), 8)\n",
    "    df_mlxtend[\"score\"] = df_mlxtend[\"support\"] * df_mlxtend[\"selectivity\"]\n",
    "    df_mlxtend = df_mlxtend.sort_values([\"score\", \"support\"], ascending=[True, False])\n",
    "\n",
    "    groups: list[tuple[list[str], list[int]]] = []\n",
    "    target_coverage = [0] * len(targets)\n",
    "\n",
    "    for row in df_mlxtend.itertuples():\n",
    "        group = row.itemsets\n",
    "\n",
    "        new_query = serialize_term_groups([list(group)], [list(tup[0]) for tup in groups])\n",
    "        if whoosh_utils.count_query_tokens(new_query) > max_query_tokens:\n",
    "            break\n",
    "\n",
    "        covered_targets = []\n",
    "        covers_new_target = False\n",
    "\n",
    "        for i, target_terms in enumerate(terms_by_target):\n",
    "            if len(group & target_terms) == len(group):\n",
    "                covered_targets.append(i)\n",
    "                covers_new_target = covers_new_target or target_coverage[i] == 0\n",
    "\n",
    "        if not covers_new_target:\n",
    "            continue\n",
    "\n",
    "        groups.append((list(group), covered_targets))\n",
    "        for target in covered_targets:\n",
    "            target_coverage[target] += 1\n",
    "\n",
    "    or_groups: list[list[str]] = []\n",
    "    xor_groups: list[list[str]] = []\n",
    "\n",
    "    for group, covered_targets in groups:\n",
    "        if all(target_coverage[target] == 1 for target in covered_targets):\n",
    "            xor_groups.append(group)\n",
    "        else:\n",
    "            or_groups.append(group)\n",
    "\n",
    "    if len(or_groups) == 0 and len(xor_groups) == 0:\n",
    "        return list(unique_terms)[0]\n",
    "\n",
    "    return serialize_term_groups(or_groups, xor_groups)\n",
    "\n",
    "def build_query_safe(row: tuple[str, ...]) -> str:\n",
    "    try:\n",
    "        return build_query(row)\n",
    "    except:\n",
    "        return \"ti:device\"\n",
    "\n",
    "build_query(df_test.row(0))"
   ]
  },
  {
   "cell_type": "markdown",
   "id": "0705ecd2",
   "metadata": {
    "papermill": {
     "duration": 0.009567,
     "end_time": "2024-05-06T17:33:37.588791",
     "exception": false,
     "start_time": "2024-05-06T17:33:37.579224",
     "status": "completed"
    },
    "tags": []
   },
   "source": [
    "# Validation"
   ]
  },
  {
   "cell_type": "code",
   "execution_count": 12,
   "id": "d8c98c05",
   "metadata": {
    "ExecuteTime": {
     "end_time": "2024-05-06T16:29:30.064089Z",
     "start_time": "2024-05-06T16:29:22.812661Z"
    },
    "execution": {
     "iopub.execute_input": "2024-05-06T17:33:37.610771Z",
     "iopub.status.busy": "2024-05-06T17:33:37.610314Z",
     "iopub.status.idle": "2024-05-06T17:33:37.616872Z",
     "shell.execute_reply": "2024-05-06T17:33:37.616029Z"
    },
    "papermill": {
     "duration": 0.020139,
     "end_time": "2024-05-06T17:33:37.618949",
     "exception": false,
     "start_time": "2024-05-06T17:33:37.598810",
     "status": "completed"
    },
    "tags": []
   },
   "outputs": [
    {
     "name": "stdout",
     "output_type": "stream",
     "text": [
      "['US-2003210238-A1', 'US-10098246-B1', 'US-7716354-B2']\n"
     ]
    }
   ],
   "source": [
    "if not is_kaggle:\n",
    "    validation_query_parser = whoosh_utils.get_query_parser()\n",
    "    validation_index = whoosh_utils.load_index(str(validation_data_directory / \"validation\" / \"validation_index\"))\n",
    "    validation_searcher = whoosh_utils.get_searcher(validation_index)\n",
    "\n",
    "    def execute_validation_query(query: str) -> list[str]:\n",
    "        return whoosh_utils.execute_query(query, validation_query_parser, validation_searcher)\n",
    "\n",
    "    # https://patents.google.com/patent/US10098246B1\n",
    "    print(execute_validation_query(\"ti:display AND ti:system AND ti:and AND ti:method AND ti:use\"))"
   ]
  },
  {
   "cell_type": "code",
   "execution_count": 13,
   "id": "d0cf7d18",
   "metadata": {
    "ExecuteTime": {
     "end_time": "2024-05-06T16:29:30.097684Z",
     "start_time": "2024-05-06T16:29:30.065716Z"
    },
    "execution": {
     "iopub.execute_input": "2024-05-06T17:33:37.641179Z",
     "iopub.status.busy": "2024-05-06T17:33:37.640481Z",
     "iopub.status.idle": "2024-05-06T17:33:37.645652Z",
     "shell.execute_reply": "2024-05-06T17:33:37.644455Z"
    },
    "papermill": {
     "duration": 0.019471,
     "end_time": "2024-05-06T17:33:37.648566",
     "exception": false,
     "start_time": "2024-05-06T17:33:37.629095",
     "status": "completed"
    },
    "tags": []
   },
   "outputs": [
    {
     "data": {
      "text/html": [
       "<div><style>\n",
       ".dataframe > thead > tr,\n",
       ".dataframe > tbody > tr {\n",
       "  text-align: right;\n",
       "  white-space: pre-wrap;\n",
       "}\n",
       "</style>\n",
       "<small>shape: (3_998, 51)</small><table border=\"1\" class=\"dataframe\"><thead><tr><th>publication_number</th><th>neighbor_0</th><th>neighbor_1</th><th>neighbor_2</th><th>neighbor_3</th><th>neighbor_4</th><th>neighbor_5</th><th>neighbor_6</th><th>neighbor_7</th><th>neighbor_8</th><th>neighbor_9</th><th>neighbor_10</th><th>neighbor_11</th><th>neighbor_12</th><th>neighbor_13</th><th>neighbor_14</th><th>neighbor_15</th><th>neighbor_16</th><th>neighbor_17</th><th>neighbor_18</th><th>neighbor_19</th><th>neighbor_20</th><th>neighbor_21</th><th>neighbor_22</th><th>neighbor_23</th><th>neighbor_24</th><th>neighbor_25</th><th>neighbor_26</th><th>neighbor_27</th><th>neighbor_28</th><th>neighbor_29</th><th>neighbor_30</th><th>neighbor_31</th><th>neighbor_32</th><th>neighbor_33</th><th>neighbor_34</th><th>neighbor_35</th><th>neighbor_36</th><th>neighbor_37</th><th>neighbor_38</th><th>neighbor_39</th><th>neighbor_40</th><th>neighbor_41</th><th>neighbor_42</th><th>neighbor_43</th><th>neighbor_44</th><th>neighbor_45</th><th>neighbor_46</th><th>neighbor_47</th><th>neighbor_48</th><th>neighbor_49</th></tr><tr><td>str</td><td>str</td><td>str</td><td>str</td><td>str</td><td>str</td><td>str</td><td>str</td><td>str</td><td>str</td><td>str</td><td>str</td><td>str</td><td>str</td><td>str</td><td>str</td><td>str</td><td>str</td><td>str</td><td>str</td><td>str</td><td>str</td><td>str</td><td>str</td><td>str</td><td>str</td><td>str</td><td>str</td><td>str</td><td>str</td><td>str</td><td>str</td><td>str</td><td>str</td><td>str</td><td>str</td><td>str</td><td>str</td><td>str</td><td>str</td><td>str</td><td>str</td><td>str</td><td>str</td><td>str</td><td>str</td><td>str</td><td>str</td><td>str</td><td>str</td><td>str</td></tr></thead><tbody><tr><td>&quot;US-10004275-B2&quot;</td><td>&quot;US-10238147-B2&quot;</td><td>&quot;US-9814272-B2&quot;</td><td>&quot;US-2016135504-A1&quot;</td><td>&quot;US-9999253-B2&quot;</td><td>&quot;US-10661032-B2&quot;</td><td>&quot;US-10582727-B2&quot;</td><td>&quot;US-10004274-B2&quot;</td><td>&quot;US-2021235765-A1&quot;</td><td>&quot;US-9993028-B2&quot;</td><td>&quot;US-10321715-B2&quot;</td><td>&quot;US-10064433-B2&quot;</td><td>&quot;US-9861131-B2&quot;</td><td>&quot;US-10721966-B2&quot;</td><td>&quot;US-10660367-B2&quot;</td><td>&quot;US-10893706-B2&quot;</td><td>&quot;US-10085484-B2&quot;</td><td>&quot;US-10575559-B2&quot;</td><td>&quot;US-10125004-B2&quot;</td><td>&quot;US-10285447-B2&quot;</td><td>&quot;US-9861136-B2&quot;</td><td>&quot;US-9894937-B2&quot;</td><td>&quot;US-10377622-B2&quot;</td><td>&quot;US-9968135-B2&quot;</td><td>&quot;US-2016338413-A1&quot;</td><td>&quot;US-9492976-B2&quot;</td><td>&quot;US-10791759-B2&quot;</td><td>&quot;US-10064431-B2&quot;</td><td>&quot;US-10196188-B2&quot;</td><td>&quot;US-9801417-B2&quot;</td><td>&quot;US-10070668-B2&quot;</td><td>&quot;US-10292428-B2&quot;</td><td>&quot;US-9848650-B2&quot;</td><td>&quot;US-10524504-B2&quot;</td><td>&quot;US-9220303-B2&quot;</td><td>&quot;US-9193229-B2&quot;</td><td>&quot;US-9498044-B2&quot;</td><td>&quot;US-10869507-B2&quot;</td><td>&quot;US-2015377354-A1&quot;</td><td>&quot;US-9901122-B2&quot;</td><td>&quot;US-9205386-B2&quot;</td><td>&quot;US-11077262-B2&quot;</td><td>&quot;US-11147314-B2&quot;</td><td>&quot;US-9894935-B2&quot;</td><td>&quot;US-11103008-B2&quot;</td><td>&quot;US-10172393-B2&quot;</td><td>&quot;US-9814269-B2&quot;</td><td>&quot;US-2592808-A&quot;</td><td>&quot;US-2017224017-A1&quot;</td><td>&quot;US-9078475-B2&quot;</td><td>&quot;US-2015118071-A1&quot;</td></tr><tr><td>&quot;US-10004377-B2&quot;</td><td>&quot;US-9326658-B2&quot;</td><td>&quot;US-2016302642-A1&quot;</td><td>&quot;US-8967165-B2&quot;</td><td>&quot;US-9339166-B2&quot;</td><td>&quot;US-2011232690-A1&quot;</td><td>&quot;US-9693670-B2&quot;</td><td>&quot;US-7942156-B2&quot;</td><td>&quot;US-2017354307-A1&quot;</td><td>&quot;US-2006237050-A1&quot;</td><td>&quot;US-8104489-B2&quot;</td><td>&quot;US-5097855-A&quot;</td><td>&quot;US-10022034-B2&quot;</td><td>&quot;US-2015107632-A1&quot;</td><td>&quot;US-2022304545-A1&quot;</td><td>&quot;US-9314145-B2&quot;</td><td>&quot;US-7635003-B2&quot;</td><td>&quot;US-10827903-B2&quot;</td><td>&quot;US-4150679-A&quot;</td><td>&quot;US-10512386-B2&quot;</td><td>&quot;US-11612298-B2&quot;</td><td>&quot;US-2015129511-A1&quot;</td><td>&quot;US-3989054-A&quot;</td><td>&quot;US-3090391-A&quot;</td><td>&quot;US-3575185-A&quot;</td><td>&quot;US-1223380-A&quot;</td><td>&quot;US-2018192851-A1&quot;</td><td>&quot;US-9968236-B2&quot;</td><td>&quot;US-2018317738-A1&quot;</td><td>&quot;US-9010344-B2&quot;</td><td>&quot;US-9918610-B2&quot;</td><td>&quot;US-11166615-B2&quot;</td><td>&quot;US-2014158168-A1&quot;</td><td>&quot;US-2009007942-A1&quot;</td><td>&quot;US-2014238447-A1&quot;</td><td>&quot;US-2014202502-A1&quot;</td><td>&quot;US-2015096599-A1&quot;</td><td>&quot;US-2020214529-A1&quot;</td><td>&quot;US-5711325-A&quot;</td><td>&quot;US-5849101-A&quot;</td><td>&quot;US-3217884-A&quot;</td><td>&quot;US-2013104935-A1&quot;</td><td>&quot;US-9492052-B2&quot;</td><td>&quot;US-4346723-A&quot;</td><td>&quot;US-11160433-B2&quot;</td><td>&quot;US-3502090-A&quot;</td><td>&quot;US-2015129512-A1&quot;</td><td>&quot;US-9839339-B2&quot;</td><td>&quot;US-10653291-B2&quot;</td><td>&quot;US-8834647-B2&quot;</td><td>&quot;US-9649006-B2&quot;</td></tr><tr><td>&quot;US-10006748-B2&quot;</td><td>&quot;US-11192659-B2&quot;</td><td>&quot;US-9976636-B2&quot;</td><td>&quot;US-10337500-B2&quot;</td><td>&quot;US-8581119-B2&quot;</td><td>&quot;US-2015093927-A1&quot;</td><td>&quot;US-9254794-B2&quot;</td><td>&quot;US-2022357136-A1&quot;</td><td>&quot;US-2879088-A&quot;</td><td>&quot;US-8893593-B2&quot;</td><td>&quot;US-2866244-A&quot;</td><td>&quot;US-2944864-A&quot;</td><td>&quot;US-9458889-B2&quot;</td><td>&quot;US-9592917-B2&quot;</td><td>&quot;US-9453525-B2&quot;</td><td>&quot;US-10526823-B2&quot;</td><td>&quot;US-9470023-B2&quot;</td><td>&quot;US-10247285-B2&quot;</td><td>&quot;US-9939237-B2&quot;</td><td>&quot;US-11300150-B2&quot;</td><td>&quot;US-11041551-B2&quot;</td><td>&quot;US-2016305165-A1&quot;</td><td>&quot;US-9368911-B2&quot;</td><td>&quot;US-5397244-A&quot;</td><td>&quot;US-3362237-A&quot;</td><td>&quot;US-9583877-B1&quot;</td><td>&quot;US-10595435-B2&quot;</td><td>&quot;US-8016327-B2&quot;</td><td>&quot;US-10024376-B2&quot;</td><td>&quot;US-9573694-B2&quot;</td><td>&quot;US-2015155668-A1&quot;</td><td>&quot;US-10435929-B2&quot;</td><td>&quot;US-9806478-B2&quot;</td><td>&quot;US-3197552-A&quot;</td><td>&quot;US-7148438-B2&quot;</td><td>&quot;US-10081434-B2&quot;</td><td>&quot;US-9112307-B2&quot;</td><td>&quot;US-6935805-B2&quot;</td><td>&quot;US-2021300578-A1&quot;</td><td>&quot;US-9091506-B2&quot;</td><td>&quot;US-4232978-A&quot;</td><td>&quot;US-10138927-B2&quot;</td><td>&quot;US-10218122-B1&quot;</td><td>&quot;US-7896570-B2&quot;</td><td>&quot;US-2017198744-A1&quot;</td><td>&quot;US-4393729-A&quot;</td><td>&quot;US-10465666-B2&quot;</td><td>&quot;US-8250980-B1&quot;</td><td>&quot;US-2015336675-A1&quot;</td><td>&quot;US-9593708-B2&quot;</td><td>&quot;US-2022136557-A1&quot;</td></tr><tr><td>&quot;US-10008131-B2&quot;</td><td>&quot;US-2013250245-A1&quot;</td><td>&quot;US-11382502-B2&quot;</td><td>&quot;US-7708402-B2&quot;</td><td>&quot;US-5652640-A&quot;</td><td>&quot;US-8511821-B2&quot;</td><td>&quot;US-2022313490-A1&quot;</td><td>&quot;US-9211061-B2&quot;</td><td>&quot;US-8414123-B2&quot;</td><td>&quot;US-2022215584-A1&quot;</td><td>&quot;US-9655775-B2&quot;</td><td>&quot;US-7935058-B2&quot;</td><td>&quot;US-6626535-B2&quot;</td><td>&quot;US-6019472-A&quot;</td><td>&quot;US-2013088414-A1&quot;</td><td>&quot;US-2021267799-A1&quot;</td><td>&quot;US-9949636-B2&quot;</td><td>&quot;US-9125559-B2&quot;</td><td>&quot;US-8480230-B2&quot;</td><td>&quot;US-7425068-B2&quot;</td><td>&quot;US-8764191-B2&quot;</td><td>&quot;US-8708488-B2&quot;</td><td>&quot;US-2021059514-A1&quot;</td><td>&quot;US-2012249955-A1&quot;</td><td>&quot;US-10105052-B2&quot;</td><td>&quot;US-9468369-B2&quot;</td><td>&quot;US-2017249871-A1&quot;</td><td>&quot;US-8308487-B2&quot;</td><td>&quot;US-8201944-B2&quot;</td><td>&quot;US-10799338-B2&quot;</td><td>&quot;US-2012303007-A1&quot;</td><td>&quot;US-7364299-B2&quot;</td><td>&quot;US-2022087526-A1&quot;</td><td>&quot;US-2022062043-A1&quot;</td><td>&quot;US-11219363-B2&quot;</td><td>&quot;US-2020367747-A1&quot;</td><td>&quot;US-8016417-B2&quot;</td><td>&quot;US-8562133-B2&quot;</td><td>&quot;US-2022007929-A1&quot;</td><td>&quot;US-10285584-B2&quot;</td><td>&quot;US-8888284-B2&quot;</td><td>&quot;US-2022387219-A1&quot;</td><td>&quot;US-9665771-B2&quot;</td><td>&quot;US-11672419-B2&quot;</td><td>&quot;US-10736605-B2&quot;</td><td>&quot;US-2021401401-A1&quot;</td><td>&quot;US-10863899-B2&quot;</td><td>&quot;US-2021212601-A1&quot;</td><td>&quot;US-2022125302-A1&quot;</td><td>&quot;US-7275827-B2&quot;</td><td>&quot;US-6634751-B2&quot;</td></tr><tr><td>&quot;US-10009256-B2&quot;</td><td>&quot;US-10938707-B2&quot;</td><td>&quot;US-9628435-B2&quot;</td><td>&quot;US-2017093685-A1&quot;</td><td>&quot;US-8498224-B2&quot;</td><td>&quot;US-10609621-B2&quot;</td><td>&quot;US-11539613-B2&quot;</td><td>&quot;US-10887224-B2&quot;</td><td>&quot;US-11622312-B2&quot;</td><td>&quot;US-9258208-B2&quot;</td><td>&quot;US-11463350-B2&quot;</td><td>&quot;US-10277686-B2&quot;</td><td>&quot;US-9479421-B2&quot;</td><td>&quot;US-8102775-B2&quot;</td><td>&quot;US-2020336406-A1&quot;</td><td>&quot;US-11050663-B2&quot;</td><td>&quot;US-2022353103-A1&quot;</td><td>&quot;US-7649852-B2&quot;</td><td>&quot;US-10178019-B2&quot;</td><td>&quot;US-11611530-B2&quot;</td><td>&quot;US-2021084591-A1&quot;</td><td>&quot;US-10715634-B2&quot;</td><td>&quot;US-8817665-B2&quot;</td><td>&quot;US-10425310-B2&quot;</td><td>&quot;US-9444677-B2&quot;</td><td>&quot;US-2003218988-A1&quot;</td><td>&quot;US-2022247714-A1&quot;</td><td>&quot;US-2022360946-A1&quot;</td><td>&quot;US-9325626-B2&quot;</td><td>&quot;US-10015075-B1&quot;</td><td>&quot;US-9413638-B2&quot;</td><td>&quot;US-8934496-B2&quot;</td><td>&quot;US-10320652-B2&quot;</td><td>&quot;US-2012155463-A1&quot;</td><td>&quot;US-2011228696-A1&quot;</td><td>&quot;US-11425016-B2&quot;</td><td>&quot;US-2023208806-A1&quot;</td><td>&quot;US-11659436-B2&quot;</td><td>&quot;US-2022247586-A1&quot;</td><td>&quot;US-11689452-B2&quot;</td><td>&quot;US-8392541-B2&quot;</td><td>&quot;US-2022045944-A1&quot;</td><td>&quot;US-2012257624-A1&quot;</td><td>&quot;US-7983239-B1&quot;</td><td>&quot;US-8908670-B2&quot;</td><td>&quot;US-10541905-B2&quot;</td><td>&quot;US-10425485-B2&quot;</td><td>&quot;US-10129202-B2&quot;</td><td>&quot;US-2004213167-A1&quot;</td><td>&quot;US-7209978-B2&quot;</td><td>&quot;US-9887936-B2&quot;</td></tr><tr><td>&hellip;</td><td>&hellip;</td><td>&hellip;</td><td>&hellip;</td><td>&hellip;</td><td>&hellip;</td><td>&hellip;</td><td>&hellip;</td><td>&hellip;</td><td>&hellip;</td><td>&hellip;</td><td>&hellip;</td><td>&hellip;</td><td>&hellip;</td><td>&hellip;</td><td>&hellip;</td><td>&hellip;</td><td>&hellip;</td><td>&hellip;</td><td>&hellip;</td><td>&hellip;</td><td>&hellip;</td><td>&hellip;</td><td>&hellip;</td><td>&hellip;</td><td>&hellip;</td><td>&hellip;</td><td>&hellip;</td><td>&hellip;</td><td>&hellip;</td><td>&hellip;</td><td>&hellip;</td><td>&hellip;</td><td>&hellip;</td><td>&hellip;</td><td>&hellip;</td><td>&hellip;</td><td>&hellip;</td><td>&hellip;</td><td>&hellip;</td><td>&hellip;</td><td>&hellip;</td><td>&hellip;</td><td>&hellip;</td><td>&hellip;</td><td>&hellip;</td><td>&hellip;</td><td>&hellip;</td><td>&hellip;</td><td>&hellip;</td><td>&hellip;</td></tr><tr><td>&quot;US-RE38863-E&quot;</td><td>&quot;US-6468786-B2&quot;</td><td>&quot;US-5210021-A&quot;</td><td>&quot;US-2014127744-A1&quot;</td><td>&quot;US-8486655-B2&quot;</td><td>&quot;US-6706520-B2&quot;</td><td>&quot;US-5284753-A&quot;</td><td>&quot;US-5008078-A&quot;</td><td>&quot;US-4277561-A&quot;</td><td>&quot;US-8178058-B2&quot;</td><td>&quot;US-3572892-A&quot;</td><td>&quot;US-6667159-B1&quot;</td><td>&quot;US-7138270-B2&quot;</td><td>&quot;US-3817839-A&quot;</td><td>&quot;US-2002071784-A1&quot;</td><td>&quot;US-2006105357-A1&quot;</td><td>&quot;US-6630355-B1&quot;</td><td>&quot;US-4647531-A&quot;</td><td>&quot;US-9410952-B2&quot;</td><td>&quot;US-5215716-A&quot;</td><td>&quot;US-7781159-B2&quot;</td><td>&quot;US-4806470-A&quot;</td><td>&quot;US-2005084879-A1&quot;</td><td>&quot;US-11071983-B2&quot;</td><td>&quot;US-2006105402-A1&quot;</td><td>&quot;US-2015253333-A1&quot;</td><td>&quot;US-6037171-A&quot;</td><td>&quot;US-3736042-A&quot;</td><td>&quot;US-7371584-B2&quot;</td><td>&quot;US-5278048-A&quot;</td><td>&quot;US-6962819-B1&quot;</td><td>&quot;US-6759190-B2&quot;</td><td>&quot;US-6488891-B2&quot;</td><td>&quot;US-6096533-A&quot;</td><td>&quot;US-3932141-A&quot;</td><td>&quot;US-4782016-A&quot;</td><td>&quot;US-7390675-B2&quot;</td><td>&quot;US-5496697-A&quot;</td><td>&quot;US-2007065805-A1&quot;</td><td>&quot;US-6448030-B1&quot;</td><td>&quot;US-3989591-A&quot;</td><td>&quot;US-3770380-A&quot;</td><td>&quot;US-2006105469-A1&quot;</td><td>&quot;US-5976892-A&quot;</td><td>&quot;US-2010178658-A1&quot;</td><td>&quot;US-2008182290-A1&quot;</td><td>&quot;US-5244788-A&quot;</td><td>&quot;US-5536662-A&quot;</td><td>&quot;US-4803160-A&quot;</td><td>&quot;US-2009041633-A1&quot;</td><td>&quot;US-4430436-A&quot;</td></tr><tr><td>&quot;US-RE41986-E&quot;</td><td>&quot;US-9130861-B2&quot;</td><td>&quot;US-6594268-B1&quot;</td><td>&quot;US-6738387-B1&quot;</td><td>&quot;US-6633544-B1&quot;</td><td>&quot;US-7065044-B2&quot;</td><td>&quot;US-9071541-B2&quot;</td><td>&quot;US-7730201-B1&quot;</td><td>&quot;US-6956821-B2&quot;</td><td>&quot;US-6859842-B1&quot;</td><td>&quot;US-7995461-B2&quot;</td><td>&quot;US-7729347-B2&quot;</td><td>&quot;US-8605619-B2&quot;</td><td>&quot;US-7302494-B2&quot;</td><td>&quot;US-7539210-B2&quot;</td><td>&quot;US-7619982-B2&quot;</td><td>&quot;US-6490249-B1&quot;</td><td>&quot;US-7609626-B2&quot;</td><td>&quot;US-8441926-B2&quot;</td><td>&quot;US-2005243723-A1&quot;</td><td>&quot;US-6785260-B1&quot;</td><td>&quot;US-2006039364-A1&quot;</td><td>&quot;US-6084858-A&quot;</td><td>&quot;US-10355974-B2&quot;</td><td>&quot;US-8787400-B1&quot;</td><td>&quot;US-6665273-B1&quot;</td><td>&quot;US-7327681-B2&quot;</td><td>&quot;US-6069895-A&quot;</td><td>&quot;US-2002150041-A1&quot;</td><td>&quot;US-10164886-B2&quot;</td><td>&quot;US-7107344-B2&quot;</td><td>&quot;US-2005007954-A1&quot;</td><td>&quot;US-7684351-B2&quot;</td><td>&quot;US-2015003240-A1&quot;</td><td>&quot;US-9923798-B1&quot;</td><td>&quot;US-10153964-B2&quot;</td><td>&quot;US-6934249-B1&quot;</td><td>&quot;US-7296087-B1&quot;</td><td>&quot;US-9197544-B2&quot;</td><td>&quot;US-7453884-B2&quot;</td><td>&quot;US-6400681-B1&quot;</td><td>&quot;US-6519254-B1&quot;</td><td>&quot;US-7903584-B2&quot;</td><td>&quot;US-6538991-B1&quot;</td><td>&quot;US-6584071-B1&quot;</td><td>&quot;US-7031262-B2&quot;</td><td>&quot;US-7283477-B1&quot;</td><td>&quot;US-9306831-B2&quot;</td><td>&quot;US-7953885-B1&quot;</td><td>&quot;US-7580359-B2&quot;</td><td>&quot;US-10721156-B2&quot;</td></tr><tr><td>&quot;US-RE43131-E&quot;</td><td>&quot;US-6801586-B1&quot;</td><td>&quot;US-7957713-B2&quot;</td><td>&quot;US-7894325-B2&quot;</td><td>&quot;US-7283598-B2&quot;</td><td>&quot;US-2003231726-A1&quot;</td><td>&quot;US-6625111-B1&quot;</td><td>&quot;US-7586988-B2&quot;</td><td>&quot;US-9246734-B1&quot;</td><td>&quot;US-2020295981-A1&quot;</td><td>&quot;US-2008233878-A1&quot;</td><td>&quot;US-10623055-B2&quot;</td><td>&quot;US-2002176519-A1&quot;</td><td>&quot;US-7912137-B2&quot;</td><td>&quot;US-7324599-B2&quot;</td><td>&quot;US-7310304-B2&quot;</td><td>&quot;US-6304545-B1&quot;</td><td>&quot;US-2013114453-A1&quot;</td><td>&quot;US-7173988-B2&quot;</td><td>&quot;US-8761328-B2&quot;</td><td>&quot;US-7933348-B2&quot;</td><td>&quot;US-8213541-B2&quot;</td><td>&quot;US-7292527-B2&quot;</td><td>&quot;US-8619841-B1&quot;</td><td>&quot;US-9825739-B2&quot;</td><td>&quot;US-6680901-B1&quot;</td><td>&quot;US-7623583-B2&quot;</td><td>&quot;US-10728081-B1&quot;</td><td>&quot;US-7706458-B2&quot;</td><td>&quot;US-6882691-B2&quot;</td><td>&quot;US-8213543-B2&quot;</td><td>&quot;US-7321550-B2&quot;</td><td>&quot;US-7088782-B2&quot;</td><td>&quot;US-7551691-B2&quot;</td><td>&quot;US-6009073-A&quot;</td><td>&quot;US-8559546-B2&quot;</td><td>&quot;US-8249195-B2&quot;</td><td>&quot;US-6628735-B1&quot;</td><td>&quot;US-7649832-B2&quot;</td><td>&quot;US-8243834-B2&quot;</td><td>&quot;US-7031382-B2&quot;</td><td>&quot;US-2005201483-A1&quot;</td><td>&quot;US-7379514-B2&quot;</td><td>&quot;US-8437430-B2&quot;</td><td>&quot;US-8184523-B2&quot;</td><td>&quot;US-2003128790-A1&quot;</td><td>&quot;US-8050366-B2&quot;</td><td>&quot;US-8068567-B2&quot;</td><td>&quot;US-6862262-B1&quot;</td><td>&quot;US-7626921-B2&quot;</td><td>&quot;US-6546055-B1&quot;</td></tr><tr><td>&quot;US-RE48611-E&quot;</td><td>&quot;US-10641562-B2&quot;</td><td>&quot;US-11578935-B2&quot;</td><td>&quot;US-8800190-B1&quot;</td><td>&quot;US-2012085010-A1&quot;</td><td>&quot;US-2010139143-A1&quot;</td><td>&quot;US-2017067708-A1&quot;</td><td>&quot;US-5448940-A&quot;</td><td>&quot;US-6935063-B1&quot;</td><td>&quot;US-3504594-A&quot;</td><td>&quot;US-2022268543-A1&quot;</td><td>&quot;US-6293040-B1&quot;</td><td>&quot;US-2020064091-A1&quot;</td><td>&quot;US-2013174457-A1&quot;</td><td>&quot;US-9915501-B2&quot;</td><td>&quot;US-2020132405-A1&quot;</td><td>&quot;US-2020056853-A1&quot;</td><td>&quot;US-2023168052-A1&quot;</td><td>&quot;US-4967642-A&quot;</td><td>&quot;US-2017241729-A1&quot;</td><td>&quot;US-7322143-B2&quot;</td><td>&quot;US-10337816-B2&quot;</td><td>&quot;US-8037805-B1&quot;</td><td>&quot;US-8726554-B2&quot;</td><td>&quot;US-8733007-B2&quot;</td><td>&quot;US-10788276-B2&quot;</td><td>&quot;US-9683800-B2&quot;</td><td>&quot;US-7958661-B2&quot;</td><td>&quot;US-10551137-B2&quot;</td><td>&quot;US-5533291-A&quot;</td><td>&quot;US-2022364810-A1&quot;</td><td>&quot;US-7581345-B2&quot;</td><td>&quot;US-3109345-A&quot;</td><td>&quot;US-891438-A&quot;</td><td>&quot;US-11578932-B2&quot;</td><td>&quot;US-10295289-B2&quot;</td><td>&quot;US-9310150-B1&quot;</td><td>&quot;US-7493718-B2&quot;</td><td>&quot;US-5024139-A&quot;</td><td>&quot;US-10197353-B2&quot;</td><td>&quot;US-7261029-B1&quot;</td><td>&quot;US-9952009-B2&quot;</td><td>&quot;US-6101918-A&quot;</td><td>&quot;US-11175111-B2&quot;</td><td>&quot;US-4066000-A&quot;</td><td>&quot;US-11454471-B1&quot;</td><td>&quot;US-8534181-B2&quot;</td><td>&quot;US-6212814-B1&quot;</td><td>&quot;US-2015192383-A1&quot;</td><td>&quot;US-3722358-A&quot;</td><td>&quot;US-2975680-A&quot;</td></tr><tr><td>&quot;US-T996001-I4&quot;</td><td>&quot;US-T104701-I4&quot;</td><td>&quot;US-T973004-I4&quot;</td><td>&quot;US-T103206-I4&quot;</td><td>&quot;US-4832735-A&quot;</td><td>&quot;US-T102201-I4&quot;</td><td>&quot;US-2770538-A&quot;</td><td>&quot;US-3911086-A&quot;</td><td>&quot;US-3574591-A&quot;</td><td>&quot;US-3667928-A&quot;</td><td>&quot;US-T998001-I4&quot;</td><td>&quot;US-2869998-A&quot;</td><td>&quot;US-3477843-A&quot;</td><td>&quot;US-2783139-A&quot;</td><td>&quot;US-T101901-I4&quot;</td><td>&quot;US-2002400-A&quot;</td><td>&quot;US-T101802-I4&quot;</td><td>&quot;US-T982001-I4&quot;</td><td>&quot;US-T105301-I4&quot;</td><td>&quot;US-3206298-A&quot;</td><td>&quot;US-2869996-A&quot;</td><td>&quot;US-4006004-A&quot;</td><td>&quot;US-3549347-A&quot;</td><td>&quot;US-2770540-A&quot;</td><td>&quot;US-5127933-A&quot;</td><td>&quot;US-3640698-A&quot;</td><td>&quot;US-3687618-A&quot;</td><td>&quot;US-4883530-A&quot;</td><td>&quot;US-2095993-A&quot;</td><td>&quot;US-T102902-I4&quot;</td><td>&quot;US-3321297-A&quot;</td><td>&quot;US-3547613-A&quot;</td><td>&quot;US-3698885-A&quot;</td><td>&quot;US-4531962-A&quot;</td><td>&quot;US-T986001-I4&quot;</td><td>&quot;US-4239523-A&quot;</td><td>&quot;US-3155490-A&quot;</td><td>&quot;US-3586495-A&quot;</td><td>&quot;US-2948602-A&quot;</td><td>&quot;US-1967205-A&quot;</td><td>&quot;US-3519413-A&quot;</td><td>&quot;US-2985527-A&quot;</td><td>&quot;US-4216190-A&quot;</td><td>&quot;US-T104501-I4&quot;</td><td>&quot;US-RE25394-E&quot;</td><td>&quot;US-2157541-A&quot;</td><td>&quot;US-3425819-A&quot;</td><td>&quot;US-3179509-A&quot;</td><td>&quot;US-3046105-A&quot;</td><td>&quot;US-T900026-I4&quot;</td><td>&quot;US-2844455-A&quot;</td></tr></tbody></table></div>"
      ],
      "text/plain": [
       "shape: (3_998, 51)\n",
       "┌───────────┬───────────┬───────────┬───────────┬───┬───────────┬───────────┬───────────┬──────────┐\n",
       "│ publicati ┆ neighbor_ ┆ neighbor_ ┆ neighbor_ ┆ … ┆ neighbor_ ┆ neighbor_ ┆ neighbor_ ┆ neighbor │\n",
       "│ on_number ┆ 0         ┆ 1         ┆ 2         ┆   ┆ 46        ┆ 47        ┆ 48        ┆ _49      │\n",
       "│ ---       ┆ ---       ┆ ---       ┆ ---       ┆   ┆ ---       ┆ ---       ┆ ---       ┆ ---      │\n",
       "│ str       ┆ str       ┆ str       ┆ str       ┆   ┆ str       ┆ str       ┆ str       ┆ str      │\n",
       "╞═══════════╪═══════════╪═══════════╪═══════════╪═══╪═══════════╪═══════════╪═══════════╪══════════╡\n",
       "│ US-100042 ┆ US-102381 ┆ US-981427 ┆ US-201613 ┆ … ┆ US-259280 ┆ US-201722 ┆ US-907847 ┆ US-20151 │\n",
       "│ 75-B2     ┆ 47-B2     ┆ 2-B2      ┆ 5504-A1   ┆   ┆ 8-A       ┆ 4017-A1   ┆ 5-B2      ┆ 18071-A1 │\n",
       "│ US-100043 ┆ US-932665 ┆ US-201630 ┆ US-896716 ┆ … ┆ US-983933 ┆ US-106532 ┆ US-883464 ┆ US-96490 │\n",
       "│ 77-B2     ┆ 8-B2      ┆ 2642-A1   ┆ 5-B2      ┆   ┆ 9-B2      ┆ 91-B2     ┆ 7-B2      ┆ 06-B2    │\n",
       "│ US-100067 ┆ US-111926 ┆ US-997663 ┆ US-103375 ┆ … ┆ US-825098 ┆ US-201533 ┆ US-959370 ┆ US-20221 │\n",
       "│ 48-B2     ┆ 59-B2     ┆ 6-B2      ┆ 00-B2     ┆   ┆ 0-B1      ┆ 6675-A1   ┆ 8-B2      ┆ 36557-A1 │\n",
       "│ US-100081 ┆ US-201325 ┆ US-113825 ┆ US-770840 ┆ … ┆ US-202121 ┆ US-202212 ┆ US-727582 ┆ US-66347 │\n",
       "│ 31-B2     ┆ 0245-A1   ┆ 02-B2     ┆ 2-B2      ┆   ┆ 2601-A1   ┆ 5302-A1   ┆ 7-B2      ┆ 51-B2    │\n",
       "│ US-100092 ┆ US-109387 ┆ US-962843 ┆ US-201709 ┆ … ┆ US-101292 ┆ US-200421 ┆ US-720997 ┆ US-98879 │\n",
       "│ 56-B2     ┆ 07-B2     ┆ 5-B2      ┆ 3685-A1   ┆   ┆ 02-B2     ┆ 3167-A1   ┆ 8-B2      ┆ 36-B2    │\n",
       "│ …         ┆ …         ┆ …         ┆ …         ┆ … ┆ …         ┆ …         ┆ …         ┆ …        │\n",
       "│ US-RE3886 ┆ US-646878 ┆ US-521002 ┆ US-201412 ┆ … ┆ US-553666 ┆ US-480316 ┆ US-200904 ┆ US-44304 │\n",
       "│ 3-E       ┆ 6-B2      ┆ 1-A       ┆ 7744-A1   ┆   ┆ 2-A       ┆ 0-A       ┆ 1633-A1   ┆ 36-A     │\n",
       "│ US-RE4198 ┆ US-913086 ┆ US-659426 ┆ US-673838 ┆ … ┆ US-930683 ┆ US-795388 ┆ US-758035 ┆ US-10721 │\n",
       "│ 6-E       ┆ 1-B2      ┆ 8-B1      ┆ 7-B1      ┆   ┆ 1-B2      ┆ 5-B1      ┆ 9-B2      ┆ 156-B2   │\n",
       "│ US-RE4313 ┆ US-680158 ┆ US-795771 ┆ US-789432 ┆ … ┆ US-806856 ┆ US-686226 ┆ US-762692 ┆ US-65460 │\n",
       "│ 1-E       ┆ 6-B1      ┆ 3-B2      ┆ 5-B2      ┆   ┆ 7-B2      ┆ 2-B1      ┆ 1-B2      ┆ 55-B1    │\n",
       "│ US-RE4861 ┆ US-106415 ┆ US-115789 ┆ US-880019 ┆ … ┆ US-621281 ┆ US-201519 ┆ US-372235 ┆ US-29756 │\n",
       "│ 1-E       ┆ 62-B2     ┆ 35-B2     ┆ 0-B1      ┆   ┆ 4-B1      ┆ 2383-A1   ┆ 8-A       ┆ 80-A     │\n",
       "│ US-T99600 ┆ US-T10470 ┆ US-T97300 ┆ US-T10320 ┆ … ┆ US-317950 ┆ US-304610 ┆ US-T90002 ┆ US-28444 │\n",
       "│ 1-I4      ┆ 1-I4      ┆ 4-I4      ┆ 6-I4      ┆   ┆ 9-A       ┆ 5-A       ┆ 6-I4      ┆ 55-A     │\n",
       "└───────────┴───────────┴───────────┴───────────┴───┴───────────┴───────────┴───────────┴──────────┘"
      ]
     },
     "execution_count": 13,
     "metadata": {},
     "output_type": "execute_result"
    }
   ],
   "source": [
    "if not is_kaggle:\n",
    "    df_validation = pl.read_csv(validation_data_directory / \"neighbors_small.csv\")\n",
    "else:\n",
    "    df_validation = None\n",
    "\n",
    "df_validation"
   ]
  },
  {
   "cell_type": "code",
   "execution_count": 14,
   "id": "d6c0e89a",
   "metadata": {
    "ExecuteTime": {
     "end_time": "2024-05-06T17:23:51.884611Z",
     "start_time": "2024-05-06T17:22:40.587927Z"
    },
    "execution": {
     "iopub.execute_input": "2024-05-06T17:33:37.671057Z",
     "iopub.status.busy": "2024-05-06T17:33:37.669903Z",
     "iopub.status.idle": "2024-05-06T17:33:37.677885Z",
     "shell.execute_reply": "2024-05-06T17:33:37.677065Z"
    },
    "papermill": {
     "duration": 0.021423,
     "end_time": "2024-05-06T17:33:37.680304",
     "exception": false,
     "start_time": "2024-05-06T17:33:37.658881",
     "status": "completed"
    },
    "tags": []
   },
   "outputs": [
    {
     "data": {
      "application/vnd.jupyter.widget-view+json": {
       "model_id": "f9055f05aa3742489d40841322c4f443",
       "version_major": 2,
       "version_minor": 0
      },
      "text/plain": [
       "  0%|          | 0/3998 [00:00<?, ?it/s]"
      ]
     },
     "metadata": {},
     "output_type": "display_data"
    },
    {
     "ename": "KeyboardInterrupt",
     "evalue": "",
     "output_type": "error",
     "traceback": [
      "\u001b[0;31m---------------------------------------------------------------------------\u001b[0m",
      "\u001b[0;31mKeyboardInterrupt\u001b[0m                         Traceback (most recent call last)",
      "Cell \u001b[0;32mIn[14], line 6\u001b[0m\n\u001b[1;32m      4\u001b[0m progress \u001b[38;5;241m=\u001b[39m tqdm(total\u001b[38;5;241m=\u001b[39mdf_validation\u001b[38;5;241m.\u001b[39mshape[\u001b[38;5;241m0\u001b[39m])\n\u001b[1;32m      5\u001b[0m \u001b[38;5;28;01mfor\u001b[39;00m row \u001b[38;5;129;01min\u001b[39;00m df_validation\u001b[38;5;241m.\u001b[39mrows():\n\u001b[0;32m----> 6\u001b[0m     query \u001b[38;5;241m=\u001b[39m \u001b[43mbuild_query\u001b[49m\u001b[43m(\u001b[49m\u001b[43mrow\u001b[49m\u001b[43m)\u001b[49m\n\u001b[1;32m      7\u001b[0m     result \u001b[38;5;241m=\u001b[39m \u001b[38;5;28mset\u001b[39m(execute_validation_query(query))\n\u001b[1;32m      9\u001b[0m     hits \u001b[38;5;241m=\u001b[39m \u001b[38;5;28msum\u001b[39m(target \u001b[38;5;129;01min\u001b[39;00m result \u001b[38;5;28;01mfor\u001b[39;00m target \u001b[38;5;129;01min\u001b[39;00m row[\u001b[38;5;241m1\u001b[39m:])\n",
      "Cell \u001b[0;32mIn[11], line 4\u001b[0m, in \u001b[0;36mbuild_query\u001b[0;34m(row)\u001b[0m\n\u001b[1;32m      1\u001b[0m \u001b[38;5;28;01mdef\u001b[39;00m \u001b[38;5;21mbuild_query\u001b[39m(row: \u001b[38;5;28mtuple\u001b[39m[\u001b[38;5;28mstr\u001b[39m, \u001b[38;5;241m.\u001b[39m\u001b[38;5;241m.\u001b[39m\u001b[38;5;241m.\u001b[39m]) \u001b[38;5;241m-\u001b[39m\u001b[38;5;241m>\u001b[39m \u001b[38;5;28mstr\u001b[39m:\n\u001b[1;32m      2\u001b[0m     targets \u001b[38;5;241m=\u001b[39m row[\u001b[38;5;241m1\u001b[39m:]\n\u001b[0;32m----> 4\u001b[0m     terms_by_target \u001b[38;5;241m=\u001b[39m \u001b[38;5;28;43mlist\u001b[39;49m\u001b[43m(\u001b[49m\u001b[38;5;28;43mmap\u001b[39;49m\u001b[43m(\u001b[49m\u001b[43mget_terms_by_publication_number\u001b[49m\u001b[43m,\u001b[49m\u001b[43m \u001b[49m\u001b[43mtargets\u001b[49m\u001b[43m)\u001b[49m\u001b[43m)\u001b[49m\n\u001b[1;32m      5\u001b[0m     unique_terms \u001b[38;5;241m=\u001b[39m \u001b[38;5;28mset\u001b[39m()\u001b[38;5;241m.\u001b[39munion(\u001b[38;5;241m*\u001b[39mterms_by_target)\n\u001b[1;32m      7\u001b[0m     \u001b[38;5;28;01mif\u001b[39;00m \u001b[38;5;28mlen\u001b[39m(unique_terms) \u001b[38;5;241m==\u001b[39m \u001b[38;5;241m0\u001b[39m:\n",
      "Cell \u001b[0;32mIn[6], line 15\u001b[0m, in \u001b[0;36mget_terms_by_publication_number\u001b[0;34m(publication_number)\u001b[0m\n\u001b[1;32m     12\u001b[0m \u001b[38;5;28;01melse\u001b[39;00m:\n\u001b[1;32m     13\u001b[0m     year, month \u001b[38;5;241m=\u001b[39m \u001b[38;5;124m\"\u001b[39m\u001b[38;5;124mnan\u001b[39m\u001b[38;5;124m\"\u001b[39m, \u001b[38;5;124m\"\u001b[39m\u001b[38;5;124mnan\u001b[39m\u001b[38;5;124m\"\u001b[39m\n\u001b[0;32m---> 15\u001b[0m df_patent_data \u001b[38;5;241m=\u001b[39m \u001b[43mpl\u001b[49m\u001b[38;5;241;43m.\u001b[39;49m\u001b[43mscan_parquet\u001b[49m\u001b[43m(\u001b[49m\u001b[43mcompetition_data_directory\u001b[49m\u001b[43m \u001b[49m\u001b[38;5;241;43m/\u001b[39;49m\u001b[43m \u001b[49m\u001b[38;5;124;43m\"\u001b[39;49m\u001b[38;5;124;43mpatent_data\u001b[39;49m\u001b[38;5;124;43m\"\u001b[39;49m\u001b[43m \u001b[49m\u001b[38;5;241;43m/\u001b[39;49m\u001b[43m \u001b[49m\u001b[38;5;124;43mf\u001b[39;49m\u001b[38;5;124;43m\"\u001b[39;49m\u001b[38;5;132;43;01m{\u001b[39;49;00m\u001b[43myear\u001b[49m\u001b[38;5;132;43;01m}\u001b[39;49;00m\u001b[38;5;124;43m_\u001b[39;49m\u001b[38;5;132;43;01m{\u001b[39;49;00m\u001b[43mmonth\u001b[49m\u001b[38;5;132;43;01m}\u001b[39;49;00m\u001b[38;5;124;43m.parquet\u001b[39;49m\u001b[38;5;124;43m\"\u001b[39;49m\u001b[43m)\u001b[49m\u001b[43m \u001b[49m\u001b[43m\\\u001b[49m\n\u001b[1;32m     16\u001b[0m \u001b[43m    \u001b[49m\u001b[38;5;241;43m.\u001b[39;49m\u001b[43mfilter\u001b[49m\u001b[43m(\u001b[49m\u001b[43mpl\u001b[49m\u001b[38;5;241;43m.\u001b[39;49m\u001b[43mcol\u001b[49m\u001b[43m(\u001b[49m\u001b[38;5;124;43m\"\u001b[39;49m\u001b[38;5;124;43mpublication_number\u001b[39;49m\u001b[38;5;124;43m\"\u001b[39;49m\u001b[43m)\u001b[49m\u001b[43m \u001b[49m\u001b[38;5;241;43m==\u001b[39;49m\u001b[43m \u001b[49m\u001b[43mpublication_number\u001b[49m\u001b[43m)\u001b[49m\u001b[43m \u001b[49m\u001b[43m\\\u001b[49m\n\u001b[1;32m     17\u001b[0m \u001b[43m    \u001b[49m\u001b[38;5;241;43m.\u001b[39;49m\u001b[43mlimit\u001b[49m\u001b[43m(\u001b[49m\u001b[38;5;241;43m1\u001b[39;49m\u001b[43m)\u001b[49m\u001b[43m \u001b[49m\u001b[43m\\\u001b[49m\n\u001b[1;32m     18\u001b[0m \u001b[43m    \u001b[49m\u001b[38;5;241;43m.\u001b[39;49m\u001b[43mselect\u001b[49m\u001b[43m(\u001b[49m\u001b[43mpl\u001b[49m\u001b[38;5;241;43m.\u001b[39;49m\u001b[43mcol\u001b[49m\u001b[43m(\u001b[49m\u001b[43m[\u001b[49m\u001b[38;5;124;43m\"\u001b[39;49m\u001b[38;5;124;43mtitle\u001b[39;49m\u001b[38;5;124;43m\"\u001b[39;49m\u001b[43m]\u001b[49m\u001b[43m)\u001b[49m\u001b[43m)\u001b[49m\u001b[43m \u001b[49m\u001b[43m\\\u001b[49m\n\u001b[1;32m     19\u001b[0m \u001b[43m    \u001b[49m\u001b[38;5;241;43m.\u001b[39;49m\u001b[43mcollect\u001b[49m\u001b[43m(\u001b[49m\u001b[43mstreaming\u001b[49m\u001b[38;5;241;43m=\u001b[39;49m\u001b[38;5;28;43;01mTrue\u001b[39;49;00m\u001b[43m)\u001b[49m\n\u001b[1;32m     21\u001b[0m cpc_codes \u001b[38;5;241m=\u001b[39m df_patent_metadata[\u001b[38;5;124m\"\u001b[39m\u001b[38;5;124mcpc_codes\u001b[39m\u001b[38;5;124m\"\u001b[39m][metadata_idx]\n\u001b[1;32m     22\u001b[0m cpc_terms \u001b[38;5;241m=\u001b[39m [\u001b[38;5;124mf\u001b[39m\u001b[38;5;124m\"\u001b[39m\u001b[38;5;124mcpc:\u001b[39m\u001b[38;5;132;01m{\u001b[39;00mcode\u001b[38;5;132;01m}\u001b[39;00m\u001b[38;5;124m\"\u001b[39m \u001b[38;5;28;01mfor\u001b[39;00m code \u001b[38;5;129;01min\u001b[39;00m cpc_codes]\n",
      "File \u001b[0;32m~/.mambaforge/envs/uspto-explainable-ai/lib/python3.10/site-packages/polars/lazyframe/frame.py:1967\u001b[0m, in \u001b[0;36mLazyFrame.collect\u001b[0;34m(self, type_coercion, predicate_pushdown, projection_pushdown, simplify_expression, slice_pushdown, comm_subplan_elim, comm_subexpr_elim, cluster_with_columns, no_optimization, streaming, background, _eager, **_kwargs)\u001b[0m\n\u001b[1;32m   1964\u001b[0m \u001b[38;5;66;03m# Only for testing purposes atm.\u001b[39;00m\n\u001b[1;32m   1965\u001b[0m callback \u001b[38;5;241m=\u001b[39m _kwargs\u001b[38;5;241m.\u001b[39mget(\u001b[38;5;124m\"\u001b[39m\u001b[38;5;124mpost_opt_callback\u001b[39m\u001b[38;5;124m\"\u001b[39m)\n\u001b[0;32m-> 1967\u001b[0m \u001b[38;5;28;01mreturn\u001b[39;00m wrap_df(\u001b[43mldf\u001b[49m\u001b[38;5;241;43m.\u001b[39;49m\u001b[43mcollect\u001b[49m\u001b[43m(\u001b[49m\u001b[43mcallback\u001b[49m\u001b[43m)\u001b[49m)\n",
      "\u001b[0;31mKeyboardInterrupt\u001b[0m: "
     ]
    }
   ],
   "source": [
    "if not is_kaggle:\n",
    "    scores = []\n",
    "\n",
    "    progress = tqdm(total=df_validation.shape[0])\n",
    "    for row in df_validation.rows():\n",
    "        query = build_query(row)\n",
    "        result = set(execute_validation_query(query))\n",
    "\n",
    "        hits = sum(target in result for target in row[1:])\n",
    "        score = hits / (len(row) - 1)\n",
    "\n",
    "        scores.append(score)\n",
    "\n",
    "        progress.set_postfix({\"score\": f\"{np.mean(scores):,.3f}±{np.std(scores):,.3f}\", \"last_score\": f\"{score:,.3f}\"})\n",
    "        progress.update()"
   ]
  },
  {
   "cell_type": "markdown",
   "id": "173267f0",
   "metadata": {
    "papermill": {
     "duration": 0.00927,
     "end_time": "2024-05-06T17:33:37.699113",
     "exception": false,
     "start_time": "2024-05-06T17:33:37.689843",
     "status": "completed"
    },
    "tags": []
   },
   "source": [
    "# Submission"
   ]
  },
  {
   "cell_type": "code",
   "execution_count": 15,
   "id": "db4651be",
   "metadata": {
    "ExecuteTime": {
     "end_time": "2024-05-06T17:23:57.250819Z",
     "start_time": "2024-05-06T17:23:54.289786Z"
    },
    "execution": {
     "iopub.execute_input": "2024-05-06T17:33:37.720116Z",
     "iopub.status.busy": "2024-05-06T17:33:37.719693Z",
     "iopub.status.idle": "2024-05-06T17:33:42.538142Z",
     "shell.execute_reply": "2024-05-06T17:33:42.536906Z"
    },
    "papermill": {
     "duration": 4.832079,
     "end_time": "2024-05-06T17:33:42.540673",
     "exception": false,
     "start_time": "2024-05-06T17:33:37.708594",
     "status": "completed"
    },
    "tags": []
   },
   "outputs": [
    {
     "data": {
      "text/html": [
       "<div><style>\n",
       ".dataframe > thead > tr,\n",
       ".dataframe > tbody > tr {\n",
       "  text-align: right;\n",
       "  white-space: pre-wrap;\n",
       "}\n",
       "</style>\n",
       "<small>shape: (10, 2)</small><table border=\"1\" class=\"dataframe\"><thead><tr><th>publication_number</th><th>query</th></tr><tr><td>str</td><td>str</td></tr></thead><tbody><tr><td>&quot;US-2017082634-A1&quot;</td><td>&quot;((cpc:G16B40/10 cpc:H01J49/003…</td></tr><tr><td>&quot;US-2017180470-A1&quot;</td><td>&quot;(cpc:H04N21/632 cpc:H04N21/234…</td></tr><tr><td>&quot;US-2018029544-A1&quot;</td><td>&quot;((cpc:B60K2016/003 cpc:B60K16/…</td></tr><tr><td>&quot;US-2022408153-A1&quot;</td><td>&quot;((cpc:H04N21/8549 cpc:H04N21/4…</td></tr><tr><td>&quot;US-2268569-A&quot;</td><td>&quot;((cpc:E02F3/3486 cpc:E02F9/022…</td></tr><tr><td>&quot;US-3371854-A&quot;</td><td>&quot;((cpc:H01J41/16 ti:getter) OR …</td></tr><tr><td>&quot;US-3589189-A&quot;</td><td>&quot;(ti:meters cpc:G01F3/223) XOR …</td></tr><tr><td>&quot;US-3881203-A&quot;</td><td>&quot;(cpc:B42F9/00 cpc:Y10T24/206) …</td></tr><tr><td>&quot;US-4845770-A&quot;</td><td>&quot;(cpc:H04N1/107 cpc:G06V30/142)…</td></tr><tr><td>&quot;US-695233-A&quot;</td><td>&quot;((cpc:C10H15/06 ti:acetylene) …</td></tr></tbody></table></div>"
      ],
      "text/plain": [
       "shape: (10, 2)\n",
       "┌────────────────────┬─────────────────────────────────┐\n",
       "│ publication_number ┆ query                           │\n",
       "│ ---                ┆ ---                             │\n",
       "│ str                ┆ str                             │\n",
       "╞════════════════════╪═════════════════════════════════╡\n",
       "│ US-2017082634-A1   ┆ ((cpc:G16B40/10 cpc:H01J49/003… │\n",
       "│ US-2017180470-A1   ┆ (cpc:H04N21/632 cpc:H04N21/234… │\n",
       "│ US-2018029544-A1   ┆ ((cpc:B60K2016/003 cpc:B60K16/… │\n",
       "│ US-2022408153-A1   ┆ ((cpc:H04N21/8549 cpc:H04N21/4… │\n",
       "│ US-2268569-A       ┆ ((cpc:E02F3/3486 cpc:E02F9/022… │\n",
       "│ US-3371854-A       ┆ ((cpc:H01J41/16 ti:getter) OR … │\n",
       "│ US-3589189-A       ┆ (ti:meters cpc:G01F3/223) XOR … │\n",
       "│ US-3881203-A       ┆ (cpc:B42F9/00 cpc:Y10T24/206) … │\n",
       "│ US-4845770-A       ┆ (cpc:H04N1/107 cpc:G06V30/142)… │\n",
       "│ US-695233-A        ┆ ((cpc:C10H15/06 ti:acetylene) … │\n",
       "└────────────────────┴─────────────────────────────────┘"
      ]
     },
     "execution_count": 15,
     "metadata": {},
     "output_type": "execute_result"
    }
   ],
   "source": [
    "submission = pl.DataFrame({\n",
    "    \"publication_number\": df_test[\"publication_number\"],\n",
    "    \"query\": df_test.map_rows(build_query_safe),\n",
    "})\n",
    "\n",
    "submission"
   ]
  },
  {
   "cell_type": "code",
   "execution_count": 16,
   "id": "fb5b59bf",
   "metadata": {
    "ExecuteTime": {
     "end_time": "2024-05-06T17:24:01.316650Z",
     "start_time": "2024-05-06T17:24:01.312111Z"
    },
    "execution": {
     "iopub.execute_input": "2024-05-06T17:33:42.563589Z",
     "iopub.status.busy": "2024-05-06T17:33:42.562372Z",
     "iopub.status.idle": "2024-05-06T17:33:42.571343Z",
     "shell.execute_reply": "2024-05-06T17:33:42.570356Z"
    },
    "papermill": {
     "duration": 0.022994,
     "end_time": "2024-05-06T17:33:42.573664",
     "exception": false,
     "start_time": "2024-05-06T17:33:42.550670",
     "status": "completed"
    },
    "tags": []
   },
   "outputs": [],
   "source": [
    "output_directory.mkdir(parents=True, exist_ok=True)\n",
    "submission.write_csv(output_directory / \"submission.csv\")"
   ]
  }
 ],
 "metadata": {
  "kaggle": {
   "accelerator": "none",
   "dataSources": [
    {
     "databundleVersionId": 8060720,
     "sourceId": 59575,
     "sourceType": "competition"
    },
    {
     "datasetId": 4517815,
     "sourceId": 7731449,
     "sourceType": "datasetVersion"
    },
    {
     "sourceId": 174185912,
     "sourceType": "kernelVersion"
    }
   ],
   "dockerImageVersionId": 30698,
   "isGpuEnabled": false,
   "isInternetEnabled": false,
   "language": "python",
   "sourceType": "notebook"
  },
  "kernelspec": {
   "display_name": "Python 3",
   "language": "python",
   "name": "python3"
  },
  "language_info": {
   "codemirror_mode": {
    "name": "ipython",
    "version": 3
   },
   "file_extension": ".py",
   "mimetype": "text/x-python",
   "name": "python",
   "nbconvert_exporter": "python",
   "pygments_lexer": "ipython3",
   "version": "3.10.14"
  },
  "papermill": {
   "default_parameters": {},
   "duration": 188.286609,
   "end_time": "2024-05-06T17:33:43.910067",
   "environment_variables": {},
   "exception": null,
   "input_path": "__notebook__.ipynb",
   "output_path": "__notebook__.ipynb",
   "parameters": {},
   "start_time": "2024-05-06T17:30:35.623458",
   "version": "2.5.0"
  },
  "widgets": {
   "application/vnd.jupyter.widget-state+json": {
    "state": {
     "12c7b260f7a145048db38caea1849f2b": {
      "model_module": "@jupyter-widgets/base",
      "model_module_version": "1.2.0",
      "model_name": "LayoutModel",
      "state": {
       "_model_module": "@jupyter-widgets/base",
       "_model_module_version": "1.2.0",
       "_model_name": "LayoutModel",
       "_view_count": null,
       "_view_module": "@jupyter-widgets/base",
       "_view_module_version": "1.2.0",
       "_view_name": "LayoutView",
       "align_content": null,
       "align_items": null,
       "align_self": null,
       "border": null,
       "bottom": null,
       "display": null,
       "flex": null,
       "flex_flow": null,
       "grid_area": null,
       "grid_auto_columns": null,
       "grid_auto_flow": null,
       "grid_auto_rows": null,
       "grid_column": null,
       "grid_gap": null,
       "grid_row": null,
       "grid_template_areas": null,
       "grid_template_columns": null,
       "grid_template_rows": null,
       "height": null,
       "justify_content": null,
       "justify_items": null,
       "left": null,
       "margin": null,
       "max_height": null,
       "max_width": null,
       "min_height": null,
       "min_width": null,
       "object_fit": null,
       "object_position": null,
       "order": null,
       "overflow": null,
       "overflow_x": null,
       "overflow_y": null,
       "padding": null,
       "right": null,
       "top": null,
       "visibility": null,
       "width": null
      }
     },
     "1aabaf89007345b08725f7856b09a9eb": {
      "model_module": "@jupyter-widgets/controls",
      "model_module_version": "1.5.0",
      "model_name": "HTMLModel",
      "state": {
       "_dom_classes": [],
       "_model_module": "@jupyter-widgets/controls",
       "_model_module_version": "1.5.0",
       "_model_name": "HTMLModel",
       "_view_count": null,
       "_view_module": "@jupyter-widgets/controls",
       "_view_module_version": "1.5.0",
       "_view_name": "HTMLView",
       "description": "",
       "description_tooltip": null,
       "layout": "IPY_MODEL_be43d2d1409444778b2d5cd841a319f8",
       "placeholder": "​",
       "style": "IPY_MODEL_e371d57e5bfd4c57966ff2cc4ecd849e",
       "value": "100%"
      }
     },
     "3fc4ff069bc1418bb4e230c7aa5ec5d6": {
      "model_module": "@jupyter-widgets/controls",
      "model_module_version": "1.5.0",
      "model_name": "DescriptionStyleModel",
      "state": {
       "_model_module": "@jupyter-widgets/controls",
       "_model_module_version": "1.5.0",
       "_model_name": "DescriptionStyleModel",
       "_view_count": null,
       "_view_module": "@jupyter-widgets/base",
       "_view_module_version": "1.2.0",
       "_view_name": "StyleView",
       "description_width": ""
      }
     },
     "574201c4e1d04908ab4153a3fd5c5804": {
      "model_module": "@jupyter-widgets/controls",
      "model_module_version": "1.5.0",
      "model_name": "FloatProgressModel",
      "state": {
       "_dom_classes": [],
       "_model_module": "@jupyter-widgets/controls",
       "_model_module_version": "1.5.0",
       "_model_name": "FloatProgressModel",
       "_view_count": null,
       "_view_module": "@jupyter-widgets/controls",
       "_view_module_version": "1.5.0",
       "_view_name": "ProgressView",
       "bar_style": "success",
       "description": "",
       "description_tooltip": null,
       "layout": "IPY_MODEL_c35982b39849447daaa8515f8b99f7e6",
       "max": 2251,
       "min": 0,
       "orientation": "horizontal",
       "style": "IPY_MODEL_5a215e29dacd4f4989944313eb808db8",
       "value": 2251
      }
     },
     "5a215e29dacd4f4989944313eb808db8": {
      "model_module": "@jupyter-widgets/controls",
      "model_module_version": "1.5.0",
      "model_name": "ProgressStyleModel",
      "state": {
       "_model_module": "@jupyter-widgets/controls",
       "_model_module_version": "1.5.0",
       "_model_name": "ProgressStyleModel",
       "_view_count": null,
       "_view_module": "@jupyter-widgets/base",
       "_view_module_version": "1.2.0",
       "_view_name": "StyleView",
       "bar_color": null,
       "description_width": ""
      }
     },
     "7aaa1ebb959b447ca3fdd394ff97508b": {
      "model_module": "@jupyter-widgets/controls",
      "model_module_version": "1.5.0",
      "model_name": "HBoxModel",
      "state": {
       "_dom_classes": [],
       "_model_module": "@jupyter-widgets/controls",
       "_model_module_version": "1.5.0",
       "_model_name": "HBoxModel",
       "_view_count": null,
       "_view_module": "@jupyter-widgets/controls",
       "_view_module_version": "1.5.0",
       "_view_name": "HBoxView",
       "box_style": "",
       "children": [
        "IPY_MODEL_1aabaf89007345b08725f7856b09a9eb",
        "IPY_MODEL_574201c4e1d04908ab4153a3fd5c5804",
        "IPY_MODEL_9830e139ec324d7aa2c23c07d8540100"
       ],
       "layout": "IPY_MODEL_8b9598e701884bb086ee578acfe5b203"
      }
     },
     "8b9598e701884bb086ee578acfe5b203": {
      "model_module": "@jupyter-widgets/base",
      "model_module_version": "1.2.0",
      "model_name": "LayoutModel",
      "state": {
       "_model_module": "@jupyter-widgets/base",
       "_model_module_version": "1.2.0",
       "_model_name": "LayoutModel",
       "_view_count": null,
       "_view_module": "@jupyter-widgets/base",
       "_view_module_version": "1.2.0",
       "_view_name": "LayoutView",
       "align_content": null,
       "align_items": null,
       "align_self": null,
       "border": null,
       "bottom": null,
       "display": null,
       "flex": null,
       "flex_flow": null,
       "grid_area": null,
       "grid_auto_columns": null,
       "grid_auto_flow": null,
       "grid_auto_rows": null,
       "grid_column": null,
       "grid_gap": null,
       "grid_row": null,
       "grid_template_areas": null,
       "grid_template_columns": null,
       "grid_template_rows": null,
       "height": null,
       "justify_content": null,
       "justify_items": null,
       "left": null,
       "margin": null,
       "max_height": null,
       "max_width": null,
       "min_height": null,
       "min_width": null,
       "object_fit": null,
       "object_position": null,
       "order": null,
       "overflow": null,
       "overflow_x": null,
       "overflow_y": null,
       "padding": null,
       "right": null,
       "top": null,
       "visibility": null,
       "width": null
      }
     },
     "9830e139ec324d7aa2c23c07d8540100": {
      "model_module": "@jupyter-widgets/controls",
      "model_module_version": "1.5.0",
      "model_name": "HTMLModel",
      "state": {
       "_dom_classes": [],
       "_model_module": "@jupyter-widgets/controls",
       "_model_module_version": "1.5.0",
       "_model_name": "HTMLModel",
       "_view_count": null,
       "_view_module": "@jupyter-widgets/controls",
       "_view_module_version": "1.5.0",
       "_view_name": "HTMLView",
       "description": "",
       "description_tooltip": null,
       "layout": "IPY_MODEL_12c7b260f7a145048db38caea1849f2b",
       "placeholder": "​",
       "style": "IPY_MODEL_3fc4ff069bc1418bb4e230c7aa5ec5d6",
       "value": " 2251/2251 [01:44&lt;00:00, 18.42it/s]"
      }
     },
     "be43d2d1409444778b2d5cd841a319f8": {
      "model_module": "@jupyter-widgets/base",
      "model_module_version": "1.2.0",
      "model_name": "LayoutModel",
      "state": {
       "_model_module": "@jupyter-widgets/base",
       "_model_module_version": "1.2.0",
       "_model_name": "LayoutModel",
       "_view_count": null,
       "_view_module": "@jupyter-widgets/base",
       "_view_module_version": "1.2.0",
       "_view_name": "LayoutView",
       "align_content": null,
       "align_items": null,
       "align_self": null,
       "border": null,
       "bottom": null,
       "display": null,
       "flex": null,
       "flex_flow": null,
       "grid_area": null,
       "grid_auto_columns": null,
       "grid_auto_flow": null,
       "grid_auto_rows": null,
       "grid_column": null,
       "grid_gap": null,
       "grid_row": null,
       "grid_template_areas": null,
       "grid_template_columns": null,
       "grid_template_rows": null,
       "height": null,
       "justify_content": null,
       "justify_items": null,
       "left": null,
       "margin": null,
       "max_height": null,
       "max_width": null,
       "min_height": null,
       "min_width": null,
       "object_fit": null,
       "object_position": null,
       "order": null,
       "overflow": null,
       "overflow_x": null,
       "overflow_y": null,
       "padding": null,
       "right": null,
       "top": null,
       "visibility": null,
       "width": null
      }
     },
     "c35982b39849447daaa8515f8b99f7e6": {
      "model_module": "@jupyter-widgets/base",
      "model_module_version": "1.2.0",
      "model_name": "LayoutModel",
      "state": {
       "_model_module": "@jupyter-widgets/base",
       "_model_module_version": "1.2.0",
       "_model_name": "LayoutModel",
       "_view_count": null,
       "_view_module": "@jupyter-widgets/base",
       "_view_module_version": "1.2.0",
       "_view_name": "LayoutView",
       "align_content": null,
       "align_items": null,
       "align_self": null,
       "border": null,
       "bottom": null,
       "display": null,
       "flex": null,
       "flex_flow": null,
       "grid_area": null,
       "grid_auto_columns": null,
       "grid_auto_flow": null,
       "grid_auto_rows": null,
       "grid_column": null,
       "grid_gap": null,
       "grid_row": null,
       "grid_template_areas": null,
       "grid_template_columns": null,
       "grid_template_rows": null,
       "height": null,
       "justify_content": null,
       "justify_items": null,
       "left": null,
       "margin": null,
       "max_height": null,
       "max_width": null,
       "min_height": null,
       "min_width": null,
       "object_fit": null,
       "object_position": null,
       "order": null,
       "overflow": null,
       "overflow_x": null,
       "overflow_y": null,
       "padding": null,
       "right": null,
       "top": null,
       "visibility": null,
       "width": null
      }
     },
     "e371d57e5bfd4c57966ff2cc4ecd849e": {
      "model_module": "@jupyter-widgets/controls",
      "model_module_version": "1.5.0",
      "model_name": "DescriptionStyleModel",
      "state": {
       "_model_module": "@jupyter-widgets/controls",
       "_model_module_version": "1.5.0",
       "_model_name": "DescriptionStyleModel",
       "_view_count": null,
       "_view_module": "@jupyter-widgets/base",
       "_view_module_version": "1.2.0",
       "_view_name": "StyleView",
       "description_width": ""
      }
     }
    },
    "version_major": 2,
    "version_minor": 0
   }
  }
 },
 "nbformat": 4,
 "nbformat_minor": 5
}
